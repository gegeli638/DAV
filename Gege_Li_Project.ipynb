{
 "cells": [
  {
   "cell_type": "markdown",
   "metadata": {
    "colab_type": "text",
    "id": "xRe0d-sGIJsI"
   },
   "source": [
    "# Project - Gege Li"
   ]
  },
  {
   "cell_type": "markdown",
   "metadata": {
    "colab_type": "text",
    "id": "wdUsS4dHITIG"
   },
   "source": [
    "## Abstract"
   ]
  },
  {
   "cell_type": "markdown",
   "metadata": {
    "colab_type": "text",
    "id": "_oIoBC9xKGFs"
   },
   "source": [
    "Whether a product has targeted customers and how it can be accepted by the market is the essence of the success of a product. This project aims to identify the target customers of an insurance product based on a user dataset which is provided by an insurance company, including their willingness to purchase a product (yes or no) and their previous purchasing history. \n",
    "We processed different types of features, tidied invalid data, dropped the duplicated data, used the insights from EDA, and various feature selection tools (Chi-square test) to select features. We also build six different types of prediction models for this classification problem and an ensemble model that combines all six base models. Comparing the performance of all models on the accuracy, precision, and other metrics, the VotingClassifier, which is the ensemble model, did the best on this predictive problem for its lower risk of overfitting and better performance on generalization. Based on the ensemble model, we can successfully predict the highest probability of targeted customers. "
   ]
  },
  {
   "cell_type": "markdown",
   "metadata": {
    "colab_type": "text",
    "id": "50cOUqvuIYmJ"
   },
   "source": [
    "## Introduction\n"
   ]
  },
  {
   "cell_type": "markdown",
   "metadata": {
    "colab_type": "text",
    "id": "8vjB-WeQKNbm"
   },
   "source": [
    "Insurance plays an increasingly important role in our daily life.  The insurance industry involves more than 2.4 trillion USD in the USA just in the year of 2018. During this COVID pandemic period, we realize more how important insurance can play in life.\n",
    "\n",
    "Therefore, for our project, we focus on an insurance company. Our data set is from Kaggle. It is from an anonymous insurance company that wants to identify customers willing to buy a new product. It has 15 columns and 14016 raws. The response variable is 'TARGET'.\n",
    "\n",
    "For our project, the main question will be how to identify the target customers. We will apply a series of EDA work to build some knowledge about the features. Also, build insight into these features and find the potential features for modeling.\n",
    "\n",
    "Then we are going to build a series of predictive models to find whether the customer will buy the new product or not. We plan to build logistic regression model, SVM, KNN, random forest model, XG boost, and MLP. Then we will use voting classifier to build an ensemble model. \n",
    "\n",
    "Finally, we will compare the performance of these models and choose one as our preferred model. At last, come up with our conclusion. The result of our research will help the company identify potential customers and it can help insurance companies reduce the workload."
   ]
  },
  {
   "cell_type": "markdown",
   "metadata": {
    "colab_type": "text",
    "id": "kYoqjlogIb3v"
   },
   "source": [
    "## Exploratory Data Analysis"
   ]
  },
  {
   "cell_type": "code",
   "execution_count": null,
   "metadata": {
    "colab": {
     "base_uri": "https://localhost:8080/",
     "height": 195
    },
    "colab_type": "code",
    "id": "cuZcH3ErIh3c",
    "outputId": "95f28e4e-f07c-4acc-9f53-59734c1dfc93"
   },
   "outputs": [
    {
     "data": {
      "text/html": [
       "<div>\n",
       "<style scoped>\n",
       "    .dataframe tbody tr th:only-of-type {\n",
       "        vertical-align: middle;\n",
       "    }\n",
       "\n",
       "    .dataframe tbody tr th {\n",
       "        vertical-align: top;\n",
       "    }\n",
       "\n",
       "    .dataframe thead th {\n",
       "        text-align: right;\n",
       "    }\n",
       "</style>\n",
       "<table border=\"1\" class=\"dataframe\">\n",
       "  <thead>\n",
       "    <tr style=\"text-align: right;\">\n",
       "      <th></th>\n",
       "      <th>TARGET</th>\n",
       "      <th>loyalty</th>\n",
       "      <th>ID</th>\n",
       "      <th>age</th>\n",
       "      <th>city</th>\n",
       "      <th>LOR</th>\n",
       "      <th>prod_A</th>\n",
       "      <th>type_A</th>\n",
       "      <th>type_B</th>\n",
       "      <th>prod_B</th>\n",
       "      <th>turnover_A</th>\n",
       "      <th>turnover_B</th>\n",
       "      <th>contract</th>\n",
       "      <th>age_P</th>\n",
       "      <th>lor_M</th>\n",
       "    </tr>\n",
       "  </thead>\n",
       "  <tbody>\n",
       "    <tr>\n",
       "      <th>0</th>\n",
       "      <td>Y</td>\n",
       "      <td>99</td>\n",
       "      <td>77</td>\n",
       "      <td>66</td>\n",
       "      <td>2</td>\n",
       "      <td>0</td>\n",
       "      <td>0</td>\n",
       "      <td>0</td>\n",
       "      <td>0</td>\n",
       "      <td>0</td>\n",
       "      <td>333.561114</td>\n",
       "      <td>264.721010</td>\n",
       "      <td>2</td>\n",
       "      <td>66</td>\n",
       "      <td>3</td>\n",
       "    </tr>\n",
       "    <tr>\n",
       "      <th>1</th>\n",
       "      <td>Y</td>\n",
       "      <td>1</td>\n",
       "      <td>159</td>\n",
       "      <td>45</td>\n",
       "      <td>2</td>\n",
       "      <td>3</td>\n",
       "      <td>1</td>\n",
       "      <td>3</td>\n",
       "      <td>3</td>\n",
       "      <td>1</td>\n",
       "      <td>394.735699</td>\n",
       "      <td>284.904978</td>\n",
       "      <td>2</td>\n",
       "      <td>45</td>\n",
       "      <td>39</td>\n",
       "    </tr>\n",
       "    <tr>\n",
       "      <th>2</th>\n",
       "      <td>Y</td>\n",
       "      <td>1</td>\n",
       "      <td>220</td>\n",
       "      <td>42</td>\n",
       "      <td>2</td>\n",
       "      <td>2</td>\n",
       "      <td>1</td>\n",
       "      <td>3</td>\n",
       "      <td>6</td>\n",
       "      <td>1</td>\n",
       "      <td>342.180990</td>\n",
       "      <td>1175.589721</td>\n",
       "      <td>2</td>\n",
       "      <td>42</td>\n",
       "      <td>27</td>\n",
       "    </tr>\n",
       "    <tr>\n",
       "      <th>3</th>\n",
       "      <td>Y</td>\n",
       "      <td>99</td>\n",
       "      <td>303</td>\n",
       "      <td>31</td>\n",
       "      <td>2</td>\n",
       "      <td>0</td>\n",
       "      <td>0</td>\n",
       "      <td>0</td>\n",
       "      <td>0</td>\n",
       "      <td>0</td>\n",
       "      <td>453.757916</td>\n",
       "      <td>242.341754</td>\n",
       "      <td>2</td>\n",
       "      <td>31</td>\n",
       "      <td>3</td>\n",
       "    </tr>\n",
       "    <tr>\n",
       "      <th>4</th>\n",
       "      <td>Y</td>\n",
       "      <td>99</td>\n",
       "      <td>306</td>\n",
       "      <td>62</td>\n",
       "      <td>2</td>\n",
       "      <td>0</td>\n",
       "      <td>0</td>\n",
       "      <td>0</td>\n",
       "      <td>0</td>\n",
       "      <td>0</td>\n",
       "      <td>384.577469</td>\n",
       "      <td>287.008370</td>\n",
       "      <td>2</td>\n",
       "      <td>62</td>\n",
       "      <td>3</td>\n",
       "    </tr>\n",
       "  </tbody>\n",
       "</table>\n",
       "</div>"
      ],
      "text/plain": [
       "  TARGET  loyalty   ID  age  ...   turnover_B  contract  age_P  lor_M\n",
       "0      Y       99   77   66  ...   264.721010         2     66      3\n",
       "1      Y        1  159   45  ...   284.904978         2     45     39\n",
       "2      Y        1  220   42  ...  1175.589721         2     42     27\n",
       "3      Y       99  303   31  ...   242.341754         2     31      3\n",
       "4      Y       99  306   62  ...   287.008370         2     62      3\n",
       "\n",
       "[5 rows x 15 columns]"
      ]
     },
     "execution_count": 1,
     "metadata": {
      "tags": []
     },
     "output_type": "execute_result"
    }
   ],
   "source": [
    "import numpy as np\n",
    "import pandas as pd\n",
    "\n",
    "# check and read the dataset from github\n",
    "df = pd.read_csv('https://raw.githubusercontent.com/gegeli638/DAV-6150/master/Final%20Project/datasets_745761_1291017_Customer_data.csv')\n",
    "df.head()"
   ]
  },
  {
   "cell_type": "code",
   "execution_count": null,
   "metadata": {
    "colab": {
     "base_uri": "https://localhost:8080/",
     "height": 218
    },
    "colab_type": "code",
    "id": "gwot_Xgd_8bb",
    "outputId": "186d4a3a-dd77-49a2-b46a-7a09d7334a55"
   },
   "outputs": [
    {
     "data": {
      "text/plain": [
       "66853     2\n",
       "147678    2\n",
       "21091     2\n",
       "107064    2\n",
       "139877    2\n",
       "         ..\n",
       "5186      1\n",
       "14042     1\n",
       "11993     1\n",
       "9944      1\n",
       "16384     1\n",
       "Name: ID, Length: 11008, dtype: int64"
      ]
     },
     "execution_count": 2,
     "metadata": {
      "tags": []
     },
     "output_type": "execute_result"
    }
   ],
   "source": [
    "df.ID.value_counts()"
   ]
  },
  {
   "cell_type": "code",
   "execution_count": null,
   "metadata": {
    "colab": {
     "base_uri": "https://localhost:8080/",
     "height": 386
    },
    "colab_type": "code",
    "id": "oJfGyzlqIHf2",
    "outputId": "4ef0be3f-9172-4a7e-daa1-379cfd9f500f"
   },
   "outputs": [
    {
     "name": "stdout",
     "output_type": "stream",
     "text": [
      "<class 'pandas.core.frame.DataFrame'>\n",
      "RangeIndex: 14016 entries, 0 to 14015\n",
      "Data columns (total 15 columns):\n",
      " #   Column      Non-Null Count  Dtype  \n",
      "---  ------      --------------  -----  \n",
      " 0   TARGET      14016 non-null  object \n",
      " 1   loyalty     14016 non-null  int64  \n",
      " 2   ID          14016 non-null  int64  \n",
      " 3   age         14016 non-null  int64  \n",
      " 4   city        14016 non-null  int64  \n",
      " 5   LOR         14016 non-null  int64  \n",
      " 6   prod_A      14016 non-null  int64  \n",
      " 7   type_A      14016 non-null  int64  \n",
      " 8   type_B      14016 non-null  int64  \n",
      " 9   prod_B      14016 non-null  int64  \n",
      " 10  turnover_A  14016 non-null  float64\n",
      " 11  turnover_B  14016 non-null  float64\n",
      " 12  contract    14016 non-null  int64  \n",
      " 13  age_P       14016 non-null  int64  \n",
      " 14  lor_M       14016 non-null  int64  \n",
      "dtypes: float64(2), int64(12), object(1)\n",
      "memory usage: 1.6+ MB\n"
     ]
    }
   ],
   "source": [
    "df.info()"
   ]
  },
  {
   "cell_type": "markdown",
   "metadata": {
    "colab_type": "text",
    "id": "buHxY3oXJgi3"
   },
   "source": [
    "This dataset is from Kaggle website. https://www.kaggle.com/rluyck/insurance-company?select=Customer_data.csv \n",
    "\n",
    "It has 15 columns and 14016 rows. Our response variable is 'TARGET'. The describe of each attributes is as follow:\n",
    "\n",
    "- ID: Unique customer identifier \n",
    "- Target: Indicator of buying the new product (0 = no, 1= yes) \n",
    "- Loyalty: Loyalty level, from low to high (0 to 3), 99 = unclassified \n",
    "- Age: Age in years \n",
    "- City: Unique code per city \n",
    "- Age_p: Age of partner in years \n",
    "- LOR: Length of relationship in years \n",
    "- LOR_m: Length of relationship in months \n",
    "- Prod_A: Bought product A (0= no, 1=yes) \n",
    "- Type_A: Type of product A  (3, 6, 9)\n",
    "- Turnover_A: Amount of money spent on product A \n",
    "- Prod_B: Bought product B (0= no, 1=yes) \n",
    "- Type_B: Type of product B (0, 3, 6, 9)\n",
    "- Turnover_B: Amount of money spent on product B \n",
    "- Contract: Type of contract "
   ]
  },
  {
   "cell_type": "markdown",
   "metadata": {
    "colab_type": "text",
    "id": "F_4i2Xrnzy0I"
   },
   "source": [
    "Based on the information above, we found out that it did not mention the contract type. Therefore we can check the value first."
   ]
  },
  {
   "cell_type": "code",
   "execution_count": null,
   "metadata": {
    "colab": {
     "base_uri": "https://localhost:8080/",
     "height": 50
    },
    "colab_type": "code",
    "id": "Y5SWP6KFNT9l",
    "outputId": "525693b0-979f-49b8-a53a-2ba4462337e2"
   },
   "outputs": [
    {
     "data": {
      "text/plain": [
       "2    14016\n",
       "Name: contract, dtype: int64"
      ]
     },
     "execution_count": 4,
     "metadata": {
      "tags": []
     },
     "output_type": "execute_result"
    }
   ],
   "source": [
    "#df['contract'].value_counts()\n",
    "df['contract'].value_counts()"
   ]
  },
  {
   "cell_type": "markdown",
   "metadata": {
    "colab_type": "text",
    "id": "jsxPO_Rhz8zG"
   },
   "source": [
    "There is only one type for contract, it is not a useful explanatory variable. We will not use this feature for feature selection."
   ]
  },
  {
   "cell_type": "markdown",
   "metadata": {
    "colab_type": "text",
    "id": "SkENfQHCRBYs"
   },
   "source": [
    "Based on the given information, we also knew there are  9 different categorical data, and the remaining 6 are continuous variables.\n",
    "- numerical:  age, age_p, LOR, LOR_m,  trunover_A, trunover_B.\n",
    "- categorical: ID, TARGET, city, Loyalty, Prod_A, Type_A, Prod_B, Type_B, contract."
   ]
  },
  {
   "cell_type": "code",
   "execution_count": null,
   "metadata": {
    "colab": {
     "base_uri": "https://localhost:8080/",
     "height": 286
    },
    "colab_type": "code",
    "id": "c6TEry65JeLf",
    "outputId": "05626568-b88d-4b4c-98db-d189c472015c"
   },
   "outputs": [
    {
     "data": {
      "text/plain": [
       "TARGET        0\n",
       "loyalty       0\n",
       "ID            0\n",
       "age           0\n",
       "city          0\n",
       "LOR           0\n",
       "prod_A        0\n",
       "type_A        0\n",
       "type_B        0\n",
       "prod_B        0\n",
       "turnover_A    0\n",
       "turnover_B    0\n",
       "contract      0\n",
       "age_P         0\n",
       "lor_M         0\n",
       "dtype: int64"
      ]
     },
     "execution_count": 5,
     "metadata": {
      "tags": []
     },
     "output_type": "execute_result"
    }
   ],
   "source": [
    "#null value check\n",
    "df.isnull().sum()"
   ]
  },
  {
   "cell_type": "markdown",
   "metadata": {
    "colab_type": "text",
    "id": "TCE-PElfLaVZ"
   },
   "source": [
    "There is no missing value. We can see the details."
   ]
  },
  {
   "cell_type": "code",
   "execution_count": null,
   "metadata": {
    "colab": {
     "base_uri": "https://localhost:8080/",
     "height": 462
    },
    "colab_type": "code",
    "id": "Ftq9kWmzKPi1",
    "outputId": "d401c526-3012-4a8a-dcdb-6c81359e1a5e"
   },
   "outputs": [
    {
     "data": {
      "text/html": [
       "<div>\n",
       "<style scoped>\n",
       "    .dataframe tbody tr th:only-of-type {\n",
       "        vertical-align: middle;\n",
       "    }\n",
       "\n",
       "    .dataframe tbody tr th {\n",
       "        vertical-align: top;\n",
       "    }\n",
       "\n",
       "    .dataframe thead th {\n",
       "        text-align: right;\n",
       "    }\n",
       "</style>\n",
       "<table border=\"1\" class=\"dataframe\">\n",
       "  <thead>\n",
       "    <tr style=\"text-align: right;\">\n",
       "      <th></th>\n",
       "      <th>count</th>\n",
       "      <th>mean</th>\n",
       "      <th>std</th>\n",
       "      <th>min</th>\n",
       "      <th>25%</th>\n",
       "      <th>50%</th>\n",
       "      <th>75%</th>\n",
       "      <th>max</th>\n",
       "    </tr>\n",
       "  </thead>\n",
       "  <tbody>\n",
       "    <tr>\n",
       "      <th>loyalty</th>\n",
       "      <td>14016.0</td>\n",
       "      <td>50.381778</td>\n",
       "      <td>48.471790</td>\n",
       "      <td>0.000000</td>\n",
       "      <td>2.000000</td>\n",
       "      <td>3.000000</td>\n",
       "      <td>99.000000</td>\n",
       "      <td>99.000000</td>\n",
       "    </tr>\n",
       "    <tr>\n",
       "      <th>ID</th>\n",
       "      <td>14016.0</td>\n",
       "      <td>37672.440068</td>\n",
       "      <td>44855.639209</td>\n",
       "      <td>1.000000</td>\n",
       "      <td>6741.500000</td>\n",
       "      <td>13514.500000</td>\n",
       "      <td>62738.000000</td>\n",
       "      <td>151811.000000</td>\n",
       "    </tr>\n",
       "    <tr>\n",
       "      <th>age</th>\n",
       "      <td>14016.0</td>\n",
       "      <td>35.882920</td>\n",
       "      <td>12.974634</td>\n",
       "      <td>5.000000</td>\n",
       "      <td>25.000000</td>\n",
       "      <td>33.000000</td>\n",
       "      <td>43.000000</td>\n",
       "      <td>102.000000</td>\n",
       "    </tr>\n",
       "    <tr>\n",
       "      <th>city</th>\n",
       "      <td>14016.0</td>\n",
       "      <td>-710.950128</td>\n",
       "      <td>26702.329184</td>\n",
       "      <td>-999999.000000</td>\n",
       "      <td>2.000000</td>\n",
       "      <td>2.000000</td>\n",
       "      <td>2.000000</td>\n",
       "      <td>235.000000</td>\n",
       "    </tr>\n",
       "    <tr>\n",
       "      <th>LOR</th>\n",
       "      <td>14016.0</td>\n",
       "      <td>0.926299</td>\n",
       "      <td>0.965212</td>\n",
       "      <td>0.000000</td>\n",
       "      <td>0.000000</td>\n",
       "      <td>1.000000</td>\n",
       "      <td>1.000000</td>\n",
       "      <td>6.000000</td>\n",
       "    </tr>\n",
       "    <tr>\n",
       "      <th>prod_A</th>\n",
       "      <td>14016.0</td>\n",
       "      <td>0.533818</td>\n",
       "      <td>0.498873</td>\n",
       "      <td>0.000000</td>\n",
       "      <td>0.000000</td>\n",
       "      <td>1.000000</td>\n",
       "      <td>1.000000</td>\n",
       "      <td>1.000000</td>\n",
       "    </tr>\n",
       "    <tr>\n",
       "      <th>type_A</th>\n",
       "      <td>14016.0</td>\n",
       "      <td>1.607877</td>\n",
       "      <td>1.508991</td>\n",
       "      <td>0.000000</td>\n",
       "      <td>0.000000</td>\n",
       "      <td>3.000000</td>\n",
       "      <td>3.000000</td>\n",
       "      <td>6.000000</td>\n",
       "    </tr>\n",
       "    <tr>\n",
       "      <th>type_B</th>\n",
       "      <td>14016.0</td>\n",
       "      <td>1.918878</td>\n",
       "      <td>1.686038</td>\n",
       "      <td>0.000000</td>\n",
       "      <td>0.000000</td>\n",
       "      <td>3.000000</td>\n",
       "      <td>3.000000</td>\n",
       "      <td>9.000000</td>\n",
       "    </tr>\n",
       "    <tr>\n",
       "      <th>prod_B</th>\n",
       "      <td>14016.0</td>\n",
       "      <td>0.599458</td>\n",
       "      <td>0.490026</td>\n",
       "      <td>0.000000</td>\n",
       "      <td>0.000000</td>\n",
       "      <td>1.000000</td>\n",
       "      <td>1.000000</td>\n",
       "      <td>1.000000</td>\n",
       "    </tr>\n",
       "    <tr>\n",
       "      <th>turnover_A</th>\n",
       "      <td>14016.0</td>\n",
       "      <td>379.161320</td>\n",
       "      <td>92.612207</td>\n",
       "      <td>300.095909</td>\n",
       "      <td>334.919412</td>\n",
       "      <td>367.891493</td>\n",
       "      <td>399.744923</td>\n",
       "      <td>5568.784139</td>\n",
       "    </tr>\n",
       "    <tr>\n",
       "      <th>turnover_B</th>\n",
       "      <td>14016.0</td>\n",
       "      <td>328.628207</td>\n",
       "      <td>475.616525</td>\n",
       "      <td>191.962852</td>\n",
       "      <td>219.406925</td>\n",
       "      <td>237.656757</td>\n",
       "      <td>264.131538</td>\n",
       "      <td>12249.084770</td>\n",
       "    </tr>\n",
       "    <tr>\n",
       "      <th>contract</th>\n",
       "      <td>14016.0</td>\n",
       "      <td>2.000000</td>\n",
       "      <td>0.000000</td>\n",
       "      <td>2.000000</td>\n",
       "      <td>2.000000</td>\n",
       "      <td>2.000000</td>\n",
       "      <td>2.000000</td>\n",
       "      <td>2.000000</td>\n",
       "    </tr>\n",
       "    <tr>\n",
       "      <th>age_P</th>\n",
       "      <td>14016.0</td>\n",
       "      <td>35.882920</td>\n",
       "      <td>12.974634</td>\n",
       "      <td>5.000000</td>\n",
       "      <td>25.000000</td>\n",
       "      <td>33.000000</td>\n",
       "      <td>43.000000</td>\n",
       "      <td>102.000000</td>\n",
       "    </tr>\n",
       "    <tr>\n",
       "      <th>lor_M</th>\n",
       "      <td>14016.0</td>\n",
       "      <td>14.115582</td>\n",
       "      <td>11.582550</td>\n",
       "      <td>3.000000</td>\n",
       "      <td>3.000000</td>\n",
       "      <td>15.000000</td>\n",
       "      <td>15.000000</td>\n",
       "      <td>75.000000</td>\n",
       "    </tr>\n",
       "  </tbody>\n",
       "</table>\n",
       "</div>"
      ],
      "text/plain": [
       "              count          mean  ...           75%            max\n",
       "loyalty     14016.0     50.381778  ...     99.000000      99.000000\n",
       "ID          14016.0  37672.440068  ...  62738.000000  151811.000000\n",
       "age         14016.0     35.882920  ...     43.000000     102.000000\n",
       "city        14016.0   -710.950128  ...      2.000000     235.000000\n",
       "LOR         14016.0      0.926299  ...      1.000000       6.000000\n",
       "prod_A      14016.0      0.533818  ...      1.000000       1.000000\n",
       "type_A      14016.0      1.607877  ...      3.000000       6.000000\n",
       "type_B      14016.0      1.918878  ...      3.000000       9.000000\n",
       "prod_B      14016.0      0.599458  ...      1.000000       1.000000\n",
       "turnover_A  14016.0    379.161320  ...    399.744923    5568.784139\n",
       "turnover_B  14016.0    328.628207  ...    264.131538   12249.084770\n",
       "contract    14016.0      2.000000  ...      2.000000       2.000000\n",
       "age_P       14016.0     35.882920  ...     43.000000     102.000000\n",
       "lor_M       14016.0     14.115582  ...     15.000000      75.000000\n",
       "\n",
       "[14 rows x 8 columns]"
      ]
     },
     "execution_count": 6,
     "metadata": {
      "tags": []
     },
     "output_type": "execute_result"
    }
   ],
   "source": [
    "df.describe().T"
   ]
  },
  {
   "cell_type": "markdown",
   "metadata": {
    "colab_type": "text",
    "id": "aikkhk1r1O4D"
   },
   "source": [
    "From this table, we can obviously find that there is unreasonable value in city(-999999.00). And the max number of ID is more than 14016, the reason may be contributed to the fact that ID is not collected in order. We will check out that later in the data preparation part."
   ]
  },
  {
   "cell_type": "markdown",
   "metadata": {
    "colab_type": "text",
    "id": "LHO5E8ScLg7F"
   },
   "source": [
    "Firstly we start to check the response variable- TARGET."
   ]
  },
  {
   "cell_type": "markdown",
   "metadata": {
    "colab_type": "text",
    "id": "0xHHoMGpq1hh"
   },
   "source": [
    "### Response variable"
   ]
  },
  {
   "cell_type": "code",
   "execution_count": null,
   "metadata": {
    "colab": {
     "base_uri": "https://localhost:8080/",
     "height": 349
    },
    "colab_type": "code",
    "id": "rUeHMC8XLkwR",
    "outputId": "e5e93aa7-eb93-435c-84a0-02b03f4049e3"
   },
   "outputs": [
    {
     "name": "stderr",
     "output_type": "stream",
     "text": [
      "/usr/local/lib/python3.6/dist-packages/statsmodels/tools/_testing.py:19: FutureWarning: pandas.util.testing is deprecated. Use the functions in the public API at pandas.testing instead.\n",
      "  import pandas.util.testing as tm\n"
     ]
    },
    {
     "data": {
      "image/png": "[encoded data removed]",
      "text/plain": [
       "<Figure size 432x288 with 1 Axes>"
      ]
     },
     "metadata": {
      "needs_background": "light",
      "tags": []
     },
     "output_type": "display_data"
    }
   ],
   "source": [
    "import matplotlib.pyplot as plt\n",
    "import seaborn as sns\n",
    "#target\n",
    "#sns.countplot(x='TARGET', data=df)\n",
    "ax = sns.countplot(x=\"TARGET\", data=df)\n",
    "plt.title('TARGET')\n",
    "total = len(df['TARGET'])\n",
    "for p in ax.patches:\n",
    "    height = p.get_height()\n",
    "    ax.text(p.get_x()+p.get_width()/2.,\n",
    "            height + 3,\n",
    "            '{:1.3f}%'.format(100*(height/total)),\n",
    "            ha=\"center\")"
   ]
  },
  {
   "cell_type": "code",
   "execution_count": null,
   "metadata": {
    "colab": {
     "base_uri": "https://localhost:8080/",
     "height": 67
    },
    "colab_type": "code",
    "id": "dYIyH4FXMxz5",
    "outputId": "5dd06fd3-e615-4449-858a-ccd0a58fecf2"
   },
   "outputs": [
    {
     "data": {
      "text/plain": [
       "N    8000\n",
       "Y    6016\n",
       "Name: TARGET, dtype: int64"
      ]
     },
     "execution_count": 8,
     "metadata": {
      "tags": []
     },
     "output_type": "execute_result"
    }
   ],
   "source": [
    "df['TARGET'].value_counts()"
   ]
  },
  {
   "cell_type": "markdown",
   "metadata": {
    "colab_type": "text",
    "id": "5ro56YeELY1j"
   },
   "source": [
    "Based on this diagram, we knew that our target variable is a  bit imbalanced, and it is about a 4:3 ratio on the quantity. Without SMOTE or other processes, the null error rate is 57%(8000/14016)We will use other techniques, such as weighted parameters in the algorithm or SMOTE, to deal with this imbalanced nature."
   ]
  },
  {
   "cell_type": "code",
   "execution_count": null,
   "metadata": {
    "colab": {
     "base_uri": "https://localhost:8080/",
     "height": 893
    },
    "colab_type": "code",
    "id": "XVpeYuPtJeOz",
    "outputId": "aa34f83f-de92-4364-cefd-7ca77ae4d059"
   },
   "outputs": [
    {
     "data": {
      "text/plain": [
       "array([[<matplotlib.axes._subplots.AxesSubplot object at 0x7f1c1f727518>,\n",
       "        <matplotlib.axes._subplots.AxesSubplot object at 0x7f1c1f6d77b8>,\n",
       "        <matplotlib.axes._subplots.AxesSubplot object at 0x7f1c1f689a20>,\n",
       "        <matplotlib.axes._subplots.AxesSubplot object at 0x7f1c1f6bdc88>],\n",
       "       [<matplotlib.axes._subplots.AxesSubplot object at 0x7f1c1f673ef0>,\n",
       "        <matplotlib.axes._subplots.AxesSubplot object at 0x7f1c1f633198>,\n",
       "        <matplotlib.axes._subplots.AxesSubplot object at 0x7f1c1f5e7400>,\n",
       "        <matplotlib.axes._subplots.AxesSubplot object at 0x7f1c1f59a630>],\n",
       "       [<matplotlib.axes._subplots.AxesSubplot object at 0x7f1c1f59a6a0>,\n",
       "        <matplotlib.axes._subplots.AxesSubplot object at 0x7f1c1f582b38>,\n",
       "        <matplotlib.axes._subplots.AxesSubplot object at 0x7f1c1f537da0>,\n",
       "        <matplotlib.axes._subplots.AxesSubplot object at 0x7f1c1f4ecfd0>],\n",
       "       [<matplotlib.axes._subplots.AxesSubplot object at 0x7f1c1f4ac2b0>,\n",
       "        <matplotlib.axes._subplots.AxesSubplot object at 0x7f1c1f45f518>,\n",
       "        <matplotlib.axes._subplots.AxesSubplot object at 0x7f1c1f414780>,\n",
       "        <matplotlib.axes._subplots.AxesSubplot object at 0x7f1c1f3c79e8>]],\n",
       "      dtype=object)"
      ]
     },
     "execution_count": 9,
     "metadata": {
      "tags": []
     },
     "output_type": "execute_result"
    },
    {
     "data": {
      "image/png": "[encoded data removed]",
      "text/plain": [
       "<Figure size 864x720 with 16 Axes>"
      ]
     },
     "metadata": {
      "needs_background": "light",
      "tags": []
     },
     "output_type": "display_data"
    }
   ],
   "source": [
    "df.hist(figsize=(12,10))"
   ]
  },
  {
   "cell_type": "markdown",
   "metadata": {
    "colab_type": "text",
    "id": "JMSJfUpeLruv"
   },
   "source": [
    "Based on the distribution of the data set, we have these findings:\n",
    "\n",
    "-  we can find turnover_A does not provide much information, or it is quite imbalanced. turnover_B may also have the same issue.\n",
    "\n",
    "- age and age_P has almost the same distribution, and it may have some colinearity. For further modeling building, we may only use one of them.\n",
    "\n",
    "- As we mentioned before, contract has only one type which makes it not a helpful variable. \n",
    "\n",
    "- there are some values in city which are below 0, we need to check right after. "
   ]
  },
  {
   "cell_type": "markdown",
   "metadata": {
    "colab_type": "text",
    "id": "wENknRx9X92D"
   },
   "source": [
    "Since some features are still unclear, We will draw more plots to show the details later. This time, we can safely delete contract for its lack of information."
   ]
  },
  {
   "cell_type": "markdown",
   "metadata": {
    "colab_type": "text",
    "id": "UUV_DlLMq6zE"
   },
   "source": [
    "### Categorical variable"
   ]
  },
  {
   "cell_type": "markdown",
   "metadata": {
    "colab_type": "text",
    "id": "EujP5_wL3fMC"
   },
   "source": [
    "We will analyze these features in detail. For the city attribute, we can find there are only 65 unique values. "
   ]
  },
  {
   "cell_type": "code",
   "execution_count": null,
   "metadata": {
    "colab": {
     "base_uri": "https://localhost:8080/",
     "height": 218
    },
    "colab_type": "code",
    "id": "dQOOkiC4FT-E",
    "outputId": "739da626-c0aa-4119-939a-7042909934c2"
   },
   "outputs": [
    {
     "data": {
      "text/plain": [
       "2      13720\n",
       "1         28\n",
       "0         26\n",
       "8         21\n",
       "9         20\n",
       "       ...  \n",
       "127        1\n",
       "131        1\n",
       "115        1\n",
       "107        1\n",
       "187        1\n",
       "Name: city, Length: 65, dtype: int64"
      ]
     },
     "execution_count": 10,
     "metadata": {
      "tags": []
     },
     "output_type": "execute_result"
    }
   ],
   "source": [
    "#check amount of unique value\n",
    "df['city'].value_counts()"
   ]
  },
  {
   "cell_type": "markdown",
   "metadata": {
    "colab_type": "text",
    "id": "DgAl_nDG4FmQ"
   },
   "source": [
    "Through the number count, we now know the majority of data are collected in city 2 which contains 13720. It also implied that this is an extreme imbalanced data. This feature is possible to be a bad explanatory variable for this low information gain. "
   ]
  },
  {
   "cell_type": "code",
   "execution_count": null,
   "metadata": {
    "colab": {
     "base_uri": "https://localhost:8080/",
     "height": 185
    },
    "colab_type": "code",
    "id": "nWgAfzxivHm8",
    "outputId": "cb4d880e-9162-4871-b701-c31ddbffe09e"
   },
   "outputs": [
    {
     "data": {
      "text/plain": [
       "array([      2,       5,       4,       1,       0,       7,       6,\n",
       "             9,      11,       8,      14,      15,      12,     116,\n",
       "            13,     111,      10,       3,     114,     142, -999999,\n",
       "           229,     178,     110,     177,     137,      17,     148,\n",
       "           122,      22,      58,     121,     127,      33,     125,\n",
       "           209,      72,      31,      51,      16,     107,     174,\n",
       "           141,     191,     104,     129,      18,      49,      73,\n",
       "            94,     131,     219,     187,      28,      89,     115,\n",
       "            53,     126,      47,      84,     235,     161,     197,\n",
       "            23,      30])"
      ]
     },
     "execution_count": 11,
     "metadata": {
      "tags": []
     },
     "output_type": "execute_result"
    }
   ],
   "source": [
    "#check unique value\n",
    "df.city.unique()"
   ]
  },
  {
   "cell_type": "markdown",
   "metadata": {
    "colab_type": "text",
    "id": "u6nFFWZVGtY6"
   },
   "source": [
    "This odd -999999 possibly means that it is unspecified city data. we can then use iloc to check detail. For this part of data, we will deal with it later in the data prep section. However, even we clean this particular data, it will not be used for modeling. "
   ]
  },
  {
   "cell_type": "code",
   "execution_count": null,
   "metadata": {
    "colab": {
     "base_uri": "https://localhost:8080/",
     "height": 585
    },
    "colab_type": "code",
    "id": "n_-jQ744FTUe",
    "outputId": "de93b165-e9b7-4631-fbba-6712d0937f55"
   },
   "outputs": [
    {
     "data": {
      "image/png": "[encoded data removed]",
      "text/plain": [
       "<Figure size 576x576 with 5 Axes>"
      ]
     },
     "metadata": {
      "needs_background": "light",
      "tags": []
     },
     "output_type": "display_data"
    }
   ],
   "source": [
    "from matplotlib.ticker import MultipleLocator #, FormatStrFormatter\n",
    "#categorical attribute\n",
    "categorial = ['loyalty', 'prod_A', 'type_A', 'prod_B', 'type_B']#TARGET, \n",
    "\n",
    "# set figure size\n",
    "fig = plt.figure(figsize=(8, 8))\n",
    "i = 1\n",
    "for f in categorial:\n",
    "    val_cnt = df[f].value_counts()\n",
    "    plt.subplot(3, 2, i)\n",
    "    plt.bar(x=val_cnt.index, height=val_cnt.values)\n",
    "    #df['loyalty'].value_counts().plot.bar(figsize=(8,5))\n",
    "    plt.title(f)\n",
    "    ax = plt.gca()\n",
    "    major_locator = MultipleLocator(1)\n",
    "    ax.xaxis.set_major_locator(major_locator)\n",
    "    plt.tight_layout()\n",
    "    i += 1\n",
    "\n",
    "plt.show()"
   ]
  },
  {
   "cell_type": "markdown",
   "metadata": {
    "colab_type": "text",
    "id": "xXMKGXN0Fqdt"
   },
   "source": [
    "From this bar plot we can find that:\n",
    "- Both Product A and B have a similar pattern. Both showed that there are more people who have insurance comparing with people who do not have.\n",
    "\n",
    "- type A and type B are mainly similar, except type B has one more small quantity of the third type. \n",
    "\n",
    "- city seemed to have negative value, we can also check it\n",
    "\n",
    "- loyalty has some interesting distribution. Most types are located closely, but one type, which is far from this range, has the highest quantity of whole data.\n"
   ]
  },
  {
   "cell_type": "markdown",
   "metadata": {
    "colab_type": "text",
    "id": "fmnHYH6bQIZP"
   },
   "source": [
    "Due to this interesting distribution of loyalty, we now check it in detail."
   ]
  },
  {
   "cell_type": "code",
   "execution_count": null,
   "metadata": {
    "colab": {
     "base_uri": "https://localhost:8080/",
     "height": 295
    },
    "colab_type": "code",
    "id": "HoF7xYZ_Jdds",
    "outputId": "ade683f0-f8a4-437a-8758-cd84c231677c"
   },
   "outputs": [
    {
     "data": {
      "image/png": "[encoded data removed]",
      "text/plain": [
       "<Figure size 432x288 with 1 Axes>"
      ]
     },
     "metadata": {
      "needs_background": "light",
      "tags": []
     },
     "output_type": "display_data"
    }
   ],
   "source": [
    "#loyalty\n",
    "ax = sns.countplot(x=\"loyalty\", data=df)\n",
    "plt.title('loyalty')\n",
    "total = len(df['loyalty'])\n",
    "for p in ax.patches:\n",
    "    height = p.get_height()\n",
    "    ax.text(p.get_x()+p.get_width()/2.,\n",
    "            height + 3,\n",
    "            '{:1.3f}%'.format(100*(height/total)),\n",
    "            ha=\"center\")"
   ]
  },
  {
   "cell_type": "markdown",
   "metadata": {
    "colab_type": "text",
    "id": "pD1I54D0EThJ"
   },
   "source": [
    "There are nearly half of loyalty is 99 which means unclassified. Cause this is a categorical feature, we will set 99 as another type of loyalty later in the modeling part."
   ]
  },
  {
   "cell_type": "markdown",
   "metadata": {
    "colab_type": "text",
    "id": "2baDtg6hADtm"
   },
   "source": [
    "Now, we have our summary for this categorical data:\n",
    "\n",
    "- All the categorical variables except contract are possible good features for modeling. "
   ]
  },
  {
   "cell_type": "markdown",
   "metadata": {
    "colab_type": "text",
    "id": "fKjkmIaTrBxf"
   },
   "source": [
    "### Numerical variable\n",
    "Then we are going to see more details of six numerical features."
   ]
  },
  {
   "cell_type": "code",
   "execution_count": null,
   "metadata": {
    "colab": {
     "base_uri": "https://localhost:8080/",
     "height": 499
    },
    "colab_type": "code",
    "id": "E4IibPCCYQcR",
    "outputId": "d55b025f-4715-483f-dae2-1431c4e837b0"
   },
   "outputs": [
    {
     "data": {
      "image/png": "[encoded data removed]",
      "text/plain": [
       "<Figure size 720x576 with 6 Axes>"
      ]
     },
     "metadata": {
      "needs_background": "light",
      "tags": []
     },
     "output_type": "display_data"
    }
   ],
   "source": [
    "#numerical attribute\n",
    "numerical = ['LOR', 'lor_M', 'age', 'age_P', 'turnover_A', 'turnover_B']\n",
    "\n",
    "# set figure size\n",
    "fig = plt.figure(figsize=(10, 8))\n",
    "i = 1\n",
    "for f in numerical:\n",
    "    plt.subplot(2, 3, i)\n",
    "    plt.boxplot(df[f])\n",
    "    plt.title(f)\n",
    "    i += 1\n",
    "plt.show()"
   ]
  },
  {
   "cell_type": "markdown",
   "metadata": {
    "colab_type": "text",
    "id": "n54-f6FaNGKG"
   },
   "source": [
    "From these plots we have these findings and insights:\n",
    "- These two LOR related attributes are possible good explanatory variables for our response variable. However, based on their mathematical relationship, we knew they are directly colinear. We may only choose one of them for later feature selection.\n",
    "- Age-related attributes, age and age_P are also good possible attributes. Similar to LOR and LOR_M, it may also have strong collinearity. Based on our search on general marriage "
   ]
  },
  {
   "cell_type": "markdown",
   "metadata": {
    "colab_type": "text",
    "id": "N9Q0gvYvKqTJ"
   },
   "source": [
    "### Relationship\n",
    "Then we are going to see their relationship."
   ]
  },
  {
   "cell_type": "code",
   "execution_count": null,
   "metadata": {
    "colab": {
     "base_uri": "https://localhost:8080/",
     "height": 369
    },
    "colab_type": "code",
    "id": "yKdJ5VDaSXqV",
    "outputId": "7d71791f-1464-4653-c628-c1eb528605e0"
   },
   "outputs": [
    {
     "data": {
      "image/png": "[encoded data removed]",
      "text/plain": [
       "<Figure size 1080x360 with 6 Axes>"
      ]
     },
     "metadata": {
      "needs_background": "light",
      "tags": []
     },
     "output_type": "display_data"
    }
   ],
   "source": [
    "#relationship of categorical data \n",
    "\n",
    "fig, axes =plt.subplots(2,3, figsize=(15,5)) #, sharex=True\n",
    "axes = axes.flatten()\n",
    "#axes.flat[0].set_visible(False)\n",
    "\n",
    "object_bol = categorial\n",
    "for ax, catplot in zip(axes, df.dtypes[object_bol].index):\n",
    "    sns.countplot(x=catplot,hue='TARGET', data=df, ax=ax)#, color='skyblue'\n",
    "plt.tight_layout()  \n",
    "plt.show()"
   ]
  },
  {
   "cell_type": "code",
   "execution_count": null,
   "metadata": {
    "colab": {
     "base_uri": "https://localhost:8080/",
     "height": 1000
    },
    "colab_type": "code",
    "id": "7Lw1ra4sGqS8",
    "outputId": "7a7e5997-4862-4d51-ca56-48ff1298bebf"
   },
   "outputs": [
    {
     "data": {
      "image/png": "[encoded data removed]",
      "text/plain": [
       "<Figure size 360x360 with 1 Axes>"
      ]
     },
     "metadata": {
      "needs_background": "light",
      "tags": []
     },
     "output_type": "display_data"
    },
    {
     "data": {
      "image/png": "[encoded data removed]",
      "text/plain": [
       "<Figure size 360x360 with 1 Axes>"
      ]
     },
     "metadata": {
      "needs_background": "light",
      "tags": []
     },
     "output_type": "display_data"
    },
    {
     "data": {
      "image/png": "[encoded data removed]",
      "text/plain": [
       "<Figure size 360x360 with 1 Axes>"
      ]
     },
     "metadata": {
      "needs_background": "light",
      "tags": []
     },
     "output_type": "display_data"
    },
    {
     "data": {
      "image/png": "[encoded data removed]",
      "text/plain": [
       "<Figure size 360x360 with 1 Axes>"
      ]
     },
     "metadata": {
      "needs_background": "light",
      "tags": []
     },
     "output_type": "display_data"
    },
    {
     "data": {
      "image/png": "[encoded data removed]",
      "text/plain": [
       "<Figure size 360x360 with 1 Axes>"
      ]
     },
     "metadata": {
      "needs_background": "light",
      "tags": []
     },
     "output_type": "display_data"
    },
    {
     "data": {
      "image/png": "[encoded data removed]",
      "text/plain": [
       "<Figure size 360x360 with 1 Axes>"
      ]
     },
     "metadata": {
      "needs_background": "light",
      "tags": []
     },
     "output_type": "display_data"
    }
   ],
   "source": [
    "#relationship of numerical data \n",
    "\n",
    "#fig, axes =plt.subplots(2,3, figsize=(15,5), sharex=True) #\n",
    "#axes = axes.flatten()\n",
    "#axes.flat[0].set_visible(False)\n",
    "\n",
    "numerical_bol = numerical\n",
    "for ax, catplot in zip(axes, df.dtypes[numerical_bol].index): #\n",
    "    #sns.countplot(x=catplot,hue='TARGET', data=df, ax=ax)#, color='skyblue'\n",
    "    #sns.factorplot(x='TARGET', y=catplot, data=df, kind='box') \n",
    "    sns.catplot(x=\"TARGET\", y=catplot, kind=\"box\", data=df)\n",
    "plt.tight_layout()  \n",
    "plt.show()"
   ]
  },
  {
   "cell_type": "markdown",
   "metadata": {
    "colab_type": "text",
    "id": "W9o70EDr5lNa"
   },
   "source": [
    "This categorical part reveals some interesting fact:\n",
    "\n",
    " - For the LOR(relationship related) attribute, median value of 26 months (about 2 years) tends to buy this target product. Also, for the people not buying the response variable, there are higher outliers that represent a higher year of relationship in couples. However, overall it is not very obvious. It may be a fine explanatory variable but not great.  \n",
    "\n",
    " - For the age-related attribute, the median age (age,age_p) of buying target product is around 40, while median age of around 28 tends to not buying this target product. Even the third quantile of not buying the product has about the same age with median of buying target product. \n",
    "\n",
    "\n",
    "\n",
    "This given information even helped to build the persona of this product. Our team may make an assumption that this target product may be targeted for middle age couples which has a relatively short relationship. Although we try to find some more references to support this assumption, it is not quite realistic to get this kind of business secret information from online directly. We continue to check heatmaps."
   ]
  },
  {
   "cell_type": "code",
   "execution_count": null,
   "metadata": {
    "colab": {
     "base_uri": "https://localhost:8080/",
     "height": 331
    },
    "colab_type": "code",
    "id": "1POFcMReTlUJ",
    "outputId": "886f160d-cc79-490a-be4a-a8041153d56c"
   },
   "outputs": [
    {
     "data": {
      "text/plain": [
       "<matplotlib.axes._subplots.AxesSubplot at 0x7f1c1be43ba8>"
      ]
     },
     "execution_count": 17,
     "metadata": {
      "tags": []
     },
     "output_type": "execute_result"
    },
    {
     "data": {
      "image/png": "[encoded data removed]",
      "text/plain": [
       "<Figure size 432x288 with 2 Axes>"
      ]
     },
     "metadata": {
      "needs_background": "light",
      "tags": []
     },
     "output_type": "display_data"
    }
   ],
   "source": [
    "#relationship\n",
    "#change target into 0 and 1\n",
    "#df['TARGET'] = df['TARGET'].map({'Y': 1, 'N': 0})\n",
    "#draw the correlation map\n",
    "cm = df[[ 'age', 'age_P', 'turnover_A', 'turnover_B','lor_M','LOR']].corr()\n",
    "plt.figure(figsize=(6, 4))\n",
    "sns.heatmap(cm, annot=True, cmap='coolwarm')"
   ]
  },
  {
   "cell_type": "markdown",
   "metadata": {
    "colab_type": "text",
    "id": "yDGoYruGVC1X"
   },
   "source": [
    "In this heatmap, if only look at this correlation matrix, we have these findings:\n",
    "\n",
    "- There is a very weak relationship between turnover A and turnover B. So we cannot choose only one of them, we need to do more analysis before modeling.\n",
    "\n",
    "- One thing noticeable is that age and age_P showed a strong collinearity. It makes sense that generally, one and the partner are at the same age, which can verify our finding from the previous distribution plot. Overall, all value does not show a strong correlation among them.\n",
    "\n",
    "- Similar to age and age_P, LOR and LOR_M, which also has a strong correlation of 1 since it is just a conversion of month and years. This is also colinearity. For feature selection, we may only use one of them."
   ]
  },
  {
   "cell_type": "markdown",
   "metadata": {
    "colab_type": "text",
    "id": "guSB9Ohj5N84"
   },
   "source": [
    "By combining all these numerical attributes analysis, we have the summary as follows:\n",
    "\n",
    "- age/age_P , LOR /LOR_m are both good numerical features to choose for modeling. However, due to their collinearity, only one out of each category should be chosen. \n",
    "\n",
    "- turnover A and turnover B are good numerical features for modeling. "
   ]
  },
  {
   "cell_type": "markdown",
   "metadata": {
    "colab_type": "text",
    "id": "r8znX51hPDHR"
   },
   "source": [
    "After EDA process, we need to handle some improper data now."
   ]
  },
  {
   "cell_type": "markdown",
   "metadata": {
    "colab_type": "text",
    "id": "RfoVH02yIic_"
   },
   "source": [
    "## Data Preparation & Prepped Data Review"
   ]
  },
  {
   "cell_type": "markdown",
   "metadata": {
    "colab_type": "text",
    "id": "a4Rl7GMahbdh"
   },
   "source": [
    "### Dealing with repetative data"
   ]
  },
  {
   "cell_type": "markdown",
   "metadata": {
    "colab_type": "text",
    "id": "lgcI9RUTSVL8"
   },
   "source": [
    "We need to check row of the data to ensure there is no repetitive data."
   ]
  },
  {
   "cell_type": "code",
   "execution_count": null,
   "metadata": {
    "colab": {
     "base_uri": "https://localhost:8080/",
     "height": 402
    },
    "colab_type": "code",
    "id": "soVDfS1F2hB0",
    "outputId": "cd5b5d0e-7346-45e4-9a0c-e7652c801787"
   },
   "outputs": [
    {
     "data": {
      "text/html": [
       "<div>\n",
       "<style scoped>\n",
       "    .dataframe tbody tr th:only-of-type {\n",
       "        vertical-align: middle;\n",
       "    }\n",
       "\n",
       "    .dataframe tbody tr th {\n",
       "        vertical-align: top;\n",
       "    }\n",
       "\n",
       "    .dataframe thead th {\n",
       "        text-align: right;\n",
       "    }\n",
       "</style>\n",
       "<table border=\"1\" class=\"dataframe\">\n",
       "  <thead>\n",
       "    <tr style=\"text-align: right;\">\n",
       "      <th></th>\n",
       "      <th>TARGET</th>\n",
       "      <th>loyalty</th>\n",
       "      <th>ID</th>\n",
       "      <th>age</th>\n",
       "      <th>city</th>\n",
       "      <th>LOR</th>\n",
       "      <th>prod_A</th>\n",
       "      <th>type_A</th>\n",
       "      <th>type_B</th>\n",
       "      <th>prod_B</th>\n",
       "      <th>turnover_A</th>\n",
       "      <th>turnover_B</th>\n",
       "      <th>contract</th>\n",
       "      <th>age_P</th>\n",
       "      <th>lor_M</th>\n",
       "    </tr>\n",
       "  </thead>\n",
       "  <tbody>\n",
       "    <tr>\n",
       "      <th>0</th>\n",
       "      <td>Y</td>\n",
       "      <td>99</td>\n",
       "      <td>77</td>\n",
       "      <td>66</td>\n",
       "      <td>2</td>\n",
       "      <td>0</td>\n",
       "      <td>0</td>\n",
       "      <td>0</td>\n",
       "      <td>0</td>\n",
       "      <td>0</td>\n",
       "      <td>333.561114</td>\n",
       "      <td>264.721010</td>\n",
       "      <td>2</td>\n",
       "      <td>66</td>\n",
       "      <td>3</td>\n",
       "    </tr>\n",
       "    <tr>\n",
       "      <th>1</th>\n",
       "      <td>Y</td>\n",
       "      <td>1</td>\n",
       "      <td>159</td>\n",
       "      <td>45</td>\n",
       "      <td>2</td>\n",
       "      <td>3</td>\n",
       "      <td>1</td>\n",
       "      <td>3</td>\n",
       "      <td>3</td>\n",
       "      <td>1</td>\n",
       "      <td>394.735699</td>\n",
       "      <td>284.904978</td>\n",
       "      <td>2</td>\n",
       "      <td>45</td>\n",
       "      <td>39</td>\n",
       "    </tr>\n",
       "    <tr>\n",
       "      <th>2</th>\n",
       "      <td>Y</td>\n",
       "      <td>1</td>\n",
       "      <td>220</td>\n",
       "      <td>42</td>\n",
       "      <td>2</td>\n",
       "      <td>2</td>\n",
       "      <td>1</td>\n",
       "      <td>3</td>\n",
       "      <td>6</td>\n",
       "      <td>1</td>\n",
       "      <td>342.180990</td>\n",
       "      <td>1175.589721</td>\n",
       "      <td>2</td>\n",
       "      <td>42</td>\n",
       "      <td>27</td>\n",
       "    </tr>\n",
       "    <tr>\n",
       "      <th>3</th>\n",
       "      <td>Y</td>\n",
       "      <td>99</td>\n",
       "      <td>303</td>\n",
       "      <td>31</td>\n",
       "      <td>2</td>\n",
       "      <td>0</td>\n",
       "      <td>0</td>\n",
       "      <td>0</td>\n",
       "      <td>0</td>\n",
       "      <td>0</td>\n",
       "      <td>453.757916</td>\n",
       "      <td>242.341754</td>\n",
       "      <td>2</td>\n",
       "      <td>31</td>\n",
       "      <td>3</td>\n",
       "    </tr>\n",
       "    <tr>\n",
       "      <th>4</th>\n",
       "      <td>Y</td>\n",
       "      <td>99</td>\n",
       "      <td>306</td>\n",
       "      <td>62</td>\n",
       "      <td>2</td>\n",
       "      <td>0</td>\n",
       "      <td>0</td>\n",
       "      <td>0</td>\n",
       "      <td>0</td>\n",
       "      <td>0</td>\n",
       "      <td>384.577469</td>\n",
       "      <td>287.008370</td>\n",
       "      <td>2</td>\n",
       "      <td>62</td>\n",
       "      <td>3</td>\n",
       "    </tr>\n",
       "    <tr>\n",
       "      <th>...</th>\n",
       "      <td>...</td>\n",
       "      <td>...</td>\n",
       "      <td>...</td>\n",
       "      <td>...</td>\n",
       "      <td>...</td>\n",
       "      <td>...</td>\n",
       "      <td>...</td>\n",
       "      <td>...</td>\n",
       "      <td>...</td>\n",
       "      <td>...</td>\n",
       "      <td>...</td>\n",
       "      <td>...</td>\n",
       "      <td>...</td>\n",
       "      <td>...</td>\n",
       "      <td>...</td>\n",
       "    </tr>\n",
       "    <tr>\n",
       "      <th>14011</th>\n",
       "      <td>Y</td>\n",
       "      <td>99</td>\n",
       "      <td>151601</td>\n",
       "      <td>30</td>\n",
       "      <td>2</td>\n",
       "      <td>0</td>\n",
       "      <td>0</td>\n",
       "      <td>0</td>\n",
       "      <td>0</td>\n",
       "      <td>0</td>\n",
       "      <td>386.434278</td>\n",
       "      <td>284.309508</td>\n",
       "      <td>2</td>\n",
       "      <td>30</td>\n",
       "      <td>3</td>\n",
       "    </tr>\n",
       "    <tr>\n",
       "      <th>14012</th>\n",
       "      <td>Y</td>\n",
       "      <td>1</td>\n",
       "      <td>151634</td>\n",
       "      <td>27</td>\n",
       "      <td>2</td>\n",
       "      <td>2</td>\n",
       "      <td>1</td>\n",
       "      <td>3</td>\n",
       "      <td>3</td>\n",
       "      <td>1</td>\n",
       "      <td>376.842591</td>\n",
       "      <td>266.993794</td>\n",
       "      <td>2</td>\n",
       "      <td>27</td>\n",
       "      <td>27</td>\n",
       "    </tr>\n",
       "    <tr>\n",
       "      <th>14013</th>\n",
       "      <td>Y</td>\n",
       "      <td>99</td>\n",
       "      <td>151679</td>\n",
       "      <td>26</td>\n",
       "      <td>2</td>\n",
       "      <td>0</td>\n",
       "      <td>0</td>\n",
       "      <td>0</td>\n",
       "      <td>0</td>\n",
       "      <td>0</td>\n",
       "      <td>434.805703</td>\n",
       "      <td>284.629361</td>\n",
       "      <td>2</td>\n",
       "      <td>26</td>\n",
       "      <td>3</td>\n",
       "    </tr>\n",
       "    <tr>\n",
       "      <th>14014</th>\n",
       "      <td>Y</td>\n",
       "      <td>1</td>\n",
       "      <td>151804</td>\n",
       "      <td>75</td>\n",
       "      <td>2</td>\n",
       "      <td>1</td>\n",
       "      <td>1</td>\n",
       "      <td>3</td>\n",
       "      <td>3</td>\n",
       "      <td>1</td>\n",
       "      <td>366.273857</td>\n",
       "      <td>270.573265</td>\n",
       "      <td>2</td>\n",
       "      <td>75</td>\n",
       "      <td>15</td>\n",
       "    </tr>\n",
       "    <tr>\n",
       "      <th>14015</th>\n",
       "      <td>Y</td>\n",
       "      <td>99</td>\n",
       "      <td>151811</td>\n",
       "      <td>61</td>\n",
       "      <td>2</td>\n",
       "      <td>0</td>\n",
       "      <td>0</td>\n",
       "      <td>0</td>\n",
       "      <td>0</td>\n",
       "      <td>0</td>\n",
       "      <td>445.059067</td>\n",
       "      <td>217.425934</td>\n",
       "      <td>2</td>\n",
       "      <td>61</td>\n",
       "      <td>3</td>\n",
       "    </tr>\n",
       "  </tbody>\n",
       "</table>\n",
       "<p>6016 rows × 15 columns</p>\n",
       "</div>"
      ],
      "text/plain": [
       "      TARGET  loyalty      ID  age  ...   turnover_B  contract  age_P  lor_M\n",
       "0          Y       99      77   66  ...   264.721010         2     66      3\n",
       "1          Y        1     159   45  ...   284.904978         2     45     39\n",
       "2          Y        1     220   42  ...  1175.589721         2     42     27\n",
       "3          Y       99     303   31  ...   242.341754         2     31      3\n",
       "4          Y       99     306   62  ...   287.008370         2     62      3\n",
       "...      ...      ...     ...  ...  ...          ...       ...    ...    ...\n",
       "14011      Y       99  151601   30  ...   284.309508         2     30      3\n",
       "14012      Y        1  151634   27  ...   266.993794         2     27     27\n",
       "14013      Y       99  151679   26  ...   284.629361         2     26      3\n",
       "14014      Y        1  151804   75  ...   270.573265         2     75     15\n",
       "14015      Y       99  151811   61  ...   217.425934         2     61      3\n",
       "\n",
       "[6016 rows x 15 columns]"
      ]
     },
     "execution_count": 18,
     "metadata": {
      "tags": []
     },
     "output_type": "execute_result"
    }
   ],
   "source": [
    "df[df['ID'].duplicated(keep=False)]"
   ]
  },
  {
   "cell_type": "code",
   "execution_count": null,
   "metadata": {
    "colab": {
     "base_uri": "https://localhost:8080/",
     "height": 106
    },
    "colab_type": "code",
    "id": "9osbLVRnIja1",
    "outputId": "c08e1c56-f6a6-48dd-fa97-32db7aa85db8"
   },
   "outputs": [
    {
     "data": {
      "text/html": [
       "<div>\n",
       "<style scoped>\n",
       "    .dataframe tbody tr th:only-of-type {\n",
       "        vertical-align: middle;\n",
       "    }\n",
       "\n",
       "    .dataframe tbody tr th {\n",
       "        vertical-align: top;\n",
       "    }\n",
       "\n",
       "    .dataframe thead th {\n",
       "        text-align: right;\n",
       "    }\n",
       "</style>\n",
       "<table border=\"1\" class=\"dataframe\">\n",
       "  <thead>\n",
       "    <tr style=\"text-align: right;\">\n",
       "      <th></th>\n",
       "      <th>TARGET</th>\n",
       "      <th>loyalty</th>\n",
       "      <th>ID</th>\n",
       "      <th>age</th>\n",
       "      <th>city</th>\n",
       "      <th>LOR</th>\n",
       "      <th>prod_A</th>\n",
       "      <th>type_A</th>\n",
       "      <th>type_B</th>\n",
       "      <th>prod_B</th>\n",
       "      <th>turnover_A</th>\n",
       "      <th>turnover_B</th>\n",
       "      <th>contract</th>\n",
       "      <th>age_P</th>\n",
       "      <th>lor_M</th>\n",
       "    </tr>\n",
       "  </thead>\n",
       "  <tbody>\n",
       "    <tr>\n",
       "      <th>4</th>\n",
       "      <td>Y</td>\n",
       "      <td>99</td>\n",
       "      <td>306</td>\n",
       "      <td>62</td>\n",
       "      <td>2</td>\n",
       "      <td>0</td>\n",
       "      <td>0</td>\n",
       "      <td>0</td>\n",
       "      <td>0</td>\n",
       "      <td>0</td>\n",
       "      <td>384.577469</td>\n",
       "      <td>287.00837</td>\n",
       "      <td>2</td>\n",
       "      <td>62</td>\n",
       "      <td>3</td>\n",
       "    </tr>\n",
       "    <tr>\n",
       "      <th>11012</th>\n",
       "      <td>Y</td>\n",
       "      <td>99</td>\n",
       "      <td>306</td>\n",
       "      <td>62</td>\n",
       "      <td>2</td>\n",
       "      <td>0</td>\n",
       "      <td>0</td>\n",
       "      <td>0</td>\n",
       "      <td>0</td>\n",
       "      <td>0</td>\n",
       "      <td>384.577469</td>\n",
       "      <td>287.00837</td>\n",
       "      <td>2</td>\n",
       "      <td>62</td>\n",
       "      <td>3</td>\n",
       "    </tr>\n",
       "  </tbody>\n",
       "</table>\n",
       "</div>"
      ],
      "text/plain": [
       "      TARGET  loyalty   ID  age  ...  turnover_B  contract  age_P  lor_M\n",
       "4          Y       99  306   62  ...   287.00837         2     62      3\n",
       "11012      Y       99  306   62  ...   287.00837         2     62      3\n",
       "\n",
       "[2 rows x 15 columns]"
      ]
     },
     "execution_count": 19,
     "metadata": {
      "tags": []
     },
     "output_type": "execute_result"
    }
   ],
   "source": [
    "#choose one row to check the duplicate\n",
    "df[df['ID'] == 306]"
   ]
  },
  {
   "cell_type": "code",
   "execution_count": null,
   "metadata": {
    "colab": {
     "base_uri": "https://localhost:8080/",
     "height": 195
    },
    "colab_type": "code",
    "id": "N7Oi_rMk2hIi",
    "outputId": "d9b63f89-18e8-4b05-c625-f76e41e129d7"
   },
   "outputs": [
    {
     "data": {
      "text/html": [
       "<div>\n",
       "<style scoped>\n",
       "    .dataframe tbody tr th:only-of-type {\n",
       "        vertical-align: middle;\n",
       "    }\n",
       "\n",
       "    .dataframe tbody tr th {\n",
       "        vertical-align: top;\n",
       "    }\n",
       "\n",
       "    .dataframe thead th {\n",
       "        text-align: right;\n",
       "    }\n",
       "</style>\n",
       "<table border=\"1\" class=\"dataframe\">\n",
       "  <thead>\n",
       "    <tr style=\"text-align: right;\">\n",
       "      <th></th>\n",
       "      <th>TARGET</th>\n",
       "      <th>loyalty</th>\n",
       "      <th>ID</th>\n",
       "      <th>age</th>\n",
       "      <th>city</th>\n",
       "      <th>LOR</th>\n",
       "      <th>prod_A</th>\n",
       "      <th>type_A</th>\n",
       "      <th>type_B</th>\n",
       "      <th>prod_B</th>\n",
       "      <th>turnover_A</th>\n",
       "      <th>turnover_B</th>\n",
       "      <th>contract</th>\n",
       "      <th>age_P</th>\n",
       "      <th>lor_M</th>\n",
       "    </tr>\n",
       "  </thead>\n",
       "  <tbody>\n",
       "    <tr>\n",
       "      <th>0</th>\n",
       "      <td>1</td>\n",
       "      <td>99</td>\n",
       "      <td>77</td>\n",
       "      <td>66</td>\n",
       "      <td>2</td>\n",
       "      <td>0</td>\n",
       "      <td>0</td>\n",
       "      <td>0</td>\n",
       "      <td>0</td>\n",
       "      <td>0</td>\n",
       "      <td>333.561114</td>\n",
       "      <td>264.721010</td>\n",
       "      <td>2</td>\n",
       "      <td>66</td>\n",
       "      <td>3</td>\n",
       "    </tr>\n",
       "    <tr>\n",
       "      <th>1</th>\n",
       "      <td>1</td>\n",
       "      <td>1</td>\n",
       "      <td>159</td>\n",
       "      <td>45</td>\n",
       "      <td>2</td>\n",
       "      <td>3</td>\n",
       "      <td>1</td>\n",
       "      <td>3</td>\n",
       "      <td>3</td>\n",
       "      <td>1</td>\n",
       "      <td>394.735699</td>\n",
       "      <td>284.904978</td>\n",
       "      <td>2</td>\n",
       "      <td>45</td>\n",
       "      <td>39</td>\n",
       "    </tr>\n",
       "    <tr>\n",
       "      <th>2</th>\n",
       "      <td>1</td>\n",
       "      <td>1</td>\n",
       "      <td>220</td>\n",
       "      <td>42</td>\n",
       "      <td>2</td>\n",
       "      <td>2</td>\n",
       "      <td>1</td>\n",
       "      <td>3</td>\n",
       "      <td>6</td>\n",
       "      <td>1</td>\n",
       "      <td>342.180990</td>\n",
       "      <td>1175.589721</td>\n",
       "      <td>2</td>\n",
       "      <td>42</td>\n",
       "      <td>27</td>\n",
       "    </tr>\n",
       "    <tr>\n",
       "      <th>3</th>\n",
       "      <td>1</td>\n",
       "      <td>99</td>\n",
       "      <td>303</td>\n",
       "      <td>31</td>\n",
       "      <td>2</td>\n",
       "      <td>0</td>\n",
       "      <td>0</td>\n",
       "      <td>0</td>\n",
       "      <td>0</td>\n",
       "      <td>0</td>\n",
       "      <td>453.757916</td>\n",
       "      <td>242.341754</td>\n",
       "      <td>2</td>\n",
       "      <td>31</td>\n",
       "      <td>3</td>\n",
       "    </tr>\n",
       "    <tr>\n",
       "      <th>4</th>\n",
       "      <td>1</td>\n",
       "      <td>99</td>\n",
       "      <td>306</td>\n",
       "      <td>62</td>\n",
       "      <td>2</td>\n",
       "      <td>0</td>\n",
       "      <td>0</td>\n",
       "      <td>0</td>\n",
       "      <td>0</td>\n",
       "      <td>0</td>\n",
       "      <td>384.577469</td>\n",
       "      <td>287.008370</td>\n",
       "      <td>2</td>\n",
       "      <td>62</td>\n",
       "      <td>3</td>\n",
       "    </tr>\n",
       "  </tbody>\n",
       "</table>\n",
       "</div>"
      ],
      "text/plain": [
       "   TARGET  loyalty   ID  age  ...   turnover_B  contract  age_P  lor_M\n",
       "0       1       99   77   66  ...   264.721010         2     66      3\n",
       "1       1        1  159   45  ...   284.904978         2     45     39\n",
       "2       1        1  220   42  ...  1175.589721         2     42     27\n",
       "3       1       99  303   31  ...   242.341754         2     31      3\n",
       "4       1       99  306   62  ...   287.008370         2     62      3\n",
       "\n",
       "[5 rows x 15 columns]"
      ]
     },
     "execution_count": 20,
     "metadata": {
      "tags": []
     },
     "output_type": "execute_result"
    }
   ],
   "source": [
    "df['TARGET'] = df['TARGET'].map(lambda x :1  if x == 'Y' else 0)\n",
    "df.head()"
   ]
  },
  {
   "cell_type": "code",
   "execution_count": null,
   "metadata": {
    "colab": {
     "base_uri": "https://localhost:8080/",
     "height": 286
    },
    "colab_type": "code",
    "id": "dN5c4oGmhfhS",
    "outputId": "f4d7b3a9-ea50-4f84-87b6-1fd623daa317"
   },
   "outputs": [
    {
     "data": {
      "text/plain": [
       "TARGET        14014\n",
       "loyalty       14011\n",
       "ID             3008\n",
       "age           13930\n",
       "city          13951\n",
       "LOR           14009\n",
       "prod_A        14014\n",
       "type_A        14013\n",
       "type_B        14012\n",
       "prod_B        14014\n",
       "turnover_A     3008\n",
       "turnover_B     3008\n",
       "contract      14015\n",
       "age_P         13930\n",
       "lor_M         14009\n",
       "dtype: int64"
      ]
     },
     "execution_count": 21,
     "metadata": {
      "tags": []
     },
     "output_type": "execute_result"
    }
   ],
   "source": [
    "#we want to deal with duplicated value\n",
    "df_sum = df.apply(lambda x: x.duplicated()).sum()\n",
    "df_sum"
   ]
  },
  {
   "cell_type": "markdown",
   "metadata": {
    "colab_type": "text",
    "id": "5M3eB3_XhrgQ"
   },
   "source": [
    "Based on this check, we mainly want to check ID term. Since most terms are making sense to have dramatic numbers of duplicates since the variables are either binary or some limited numbers of type. Contributing to this belief, we know there are 3000 rows of ID involving duplicates. Based on our general understanding of the data, it is not correct to directly drop these data since it is also 25% of our data.\n",
    "\n",
    "When we check with other rows of data, interestingly, it showed the same pattern in turnoverA and turnoverB. Since we knew turnover terms both represent money spent. And generally, people spent is a bit different. These same 3008 values suggested that it is possible that these turnover and ID are highly correlated and we just have the duplicates on the record. This issue can be caused by merging data processes on data collection.\n",
    "\n",
    "After we think the duplicate has the same row of data. We now just picked one example\n"
   ]
  },
  {
   "cell_type": "code",
   "execution_count": null,
   "metadata": {
    "colab": {
     "base_uri": "https://localhost:8080/",
     "height": 106
    },
    "colab_type": "code",
    "id": "T3xsEkvXSwzK",
    "outputId": "1a10b0e1-3a27-4dc2-a7af-262a7415878f"
   },
   "outputs": [
    {
     "data": {
      "text/html": [
       "<div>\n",
       "<style scoped>\n",
       "    .dataframe tbody tr th:only-of-type {\n",
       "        vertical-align: middle;\n",
       "    }\n",
       "\n",
       "    .dataframe tbody tr th {\n",
       "        vertical-align: top;\n",
       "    }\n",
       "\n",
       "    .dataframe thead th {\n",
       "        text-align: right;\n",
       "    }\n",
       "</style>\n",
       "<table border=\"1\" class=\"dataframe\">\n",
       "  <thead>\n",
       "    <tr style=\"text-align: right;\">\n",
       "      <th></th>\n",
       "      <th>TARGET</th>\n",
       "      <th>loyalty</th>\n",
       "      <th>ID</th>\n",
       "      <th>age</th>\n",
       "      <th>city</th>\n",
       "      <th>LOR</th>\n",
       "      <th>prod_A</th>\n",
       "      <th>type_A</th>\n",
       "      <th>type_B</th>\n",
       "      <th>prod_B</th>\n",
       "      <th>turnover_A</th>\n",
       "      <th>turnover_B</th>\n",
       "      <th>contract</th>\n",
       "      <th>age_P</th>\n",
       "      <th>lor_M</th>\n",
       "    </tr>\n",
       "  </thead>\n",
       "  <tbody>\n",
       "    <tr>\n",
       "      <th>4</th>\n",
       "      <td>1</td>\n",
       "      <td>99</td>\n",
       "      <td>306</td>\n",
       "      <td>62</td>\n",
       "      <td>2</td>\n",
       "      <td>0</td>\n",
       "      <td>0</td>\n",
       "      <td>0</td>\n",
       "      <td>0</td>\n",
       "      <td>0</td>\n",
       "      <td>384.577469</td>\n",
       "      <td>287.00837</td>\n",
       "      <td>2</td>\n",
       "      <td>62</td>\n",
       "      <td>3</td>\n",
       "    </tr>\n",
       "    <tr>\n",
       "      <th>11012</th>\n",
       "      <td>1</td>\n",
       "      <td>99</td>\n",
       "      <td>306</td>\n",
       "      <td>62</td>\n",
       "      <td>2</td>\n",
       "      <td>0</td>\n",
       "      <td>0</td>\n",
       "      <td>0</td>\n",
       "      <td>0</td>\n",
       "      <td>0</td>\n",
       "      <td>384.577469</td>\n",
       "      <td>287.00837</td>\n",
       "      <td>2</td>\n",
       "      <td>62</td>\n",
       "      <td>3</td>\n",
       "    </tr>\n",
       "  </tbody>\n",
       "</table>\n",
       "</div>"
      ],
      "text/plain": [
       "       TARGET  loyalty   ID  age  ...  turnover_B  contract  age_P  lor_M\n",
       "4           1       99  306   62  ...   287.00837         2     62      3\n",
       "11012       1       99  306   62  ...   287.00837         2     62      3\n",
       "\n",
       "[2 rows x 15 columns]"
      ]
     },
     "execution_count": 22,
     "metadata": {
      "tags": []
     },
     "output_type": "execute_result"
    }
   ],
   "source": [
    "# check one row whether it is true whole row is the same\n",
    "# just picked one value we found before\n",
    "df[df['ID'] == 306]"
   ]
  },
  {
   "cell_type": "markdown",
   "metadata": {
    "colab_type": "text",
    "id": "WrZx7qxJhg77"
   },
   "source": [
    "We can tell duplicates with the same ID has the same value on other columns, now we are safe to drop duplicates."
   ]
  },
  {
   "cell_type": "code",
   "execution_count": null,
   "metadata": {
    "colab": {
     "base_uri": "https://localhost:8080/",
     "height": 304
    },
    "colab_type": "code",
    "id": "xfCjz81Khzkq",
    "outputId": "c31f952d-3fc1-4847-937c-cbfdf2a22084"
   },
   "outputs": [
    {
     "data": {
      "text/html": [
       "<div>\n",
       "<style scoped>\n",
       "    .dataframe tbody tr th:only-of-type {\n",
       "        vertical-align: middle;\n",
       "    }\n",
       "\n",
       "    .dataframe tbody tr th {\n",
       "        vertical-align: top;\n",
       "    }\n",
       "\n",
       "    .dataframe thead th {\n",
       "        text-align: right;\n",
       "    }\n",
       "</style>\n",
       "<table border=\"1\" class=\"dataframe\">\n",
       "  <thead>\n",
       "    <tr style=\"text-align: right;\">\n",
       "      <th></th>\n",
       "      <th>TARGET</th>\n",
       "      <th>loyalty</th>\n",
       "      <th>ID</th>\n",
       "      <th>age</th>\n",
       "      <th>city</th>\n",
       "      <th>LOR</th>\n",
       "      <th>prod_A</th>\n",
       "      <th>type_A</th>\n",
       "      <th>type_B</th>\n",
       "      <th>prod_B</th>\n",
       "      <th>turnover_A</th>\n",
       "      <th>turnover_B</th>\n",
       "      <th>contract</th>\n",
       "      <th>age_P</th>\n",
       "      <th>lor_M</th>\n",
       "    </tr>\n",
       "  </thead>\n",
       "  <tbody>\n",
       "    <tr>\n",
       "      <th>count</th>\n",
       "      <td>11008.000000</td>\n",
       "      <td>11008.000000</td>\n",
       "      <td>11008.000000</td>\n",
       "      <td>11008.000000</td>\n",
       "      <td>11008.000000</td>\n",
       "      <td>11008.000000</td>\n",
       "      <td>11008.000000</td>\n",
       "      <td>11008.000000</td>\n",
       "      <td>11008.000000</td>\n",
       "      <td>11008.000000</td>\n",
       "      <td>11008.000000</td>\n",
       "      <td>11008.000000</td>\n",
       "      <td>11008.0</td>\n",
       "      <td>11008.000000</td>\n",
       "      <td>11008.000000</td>\n",
       "    </tr>\n",
       "    <tr>\n",
       "      <th>mean</th>\n",
       "      <td>0.273256</td>\n",
       "      <td>46.533612</td>\n",
       "      <td>27023.459938</td>\n",
       "      <td>34.845203</td>\n",
       "      <td>-724.143078</td>\n",
       "      <td>0.982649</td>\n",
       "      <td>0.584393</td>\n",
       "      <td>1.759448</td>\n",
       "      <td>2.097929</td>\n",
       "      <td>0.652253</td>\n",
       "      <td>372.332403</td>\n",
       "      <td>344.120565</td>\n",
       "      <td>2.0</td>\n",
       "      <td>34.845203</td>\n",
       "      <td>14.791788</td>\n",
       "    </tr>\n",
       "    <tr>\n",
       "      <th>std</th>\n",
       "      <td>0.445651</td>\n",
       "      <td>48.292402</td>\n",
       "      <td>38576.841141</td>\n",
       "      <td>13.032781</td>\n",
       "      <td>26949.664365</td>\n",
       "      <td>0.939415</td>\n",
       "      <td>0.492849</td>\n",
       "      <td>1.490133</td>\n",
       "      <td>1.671441</td>\n",
       "      <td>0.476277</td>\n",
       "      <td>96.685932</td>\n",
       "      <td>524.372413</td>\n",
       "      <td>0.0</td>\n",
       "      <td>13.032781</td>\n",
       "      <td>11.272981</td>\n",
       "    </tr>\n",
       "    <tr>\n",
       "      <th>min</th>\n",
       "      <td>0.000000</td>\n",
       "      <td>0.000000</td>\n",
       "      <td>1.000000</td>\n",
       "      <td>5.000000</td>\n",
       "      <td>-999999.000000</td>\n",
       "      <td>0.000000</td>\n",
       "      <td>0.000000</td>\n",
       "      <td>0.000000</td>\n",
       "      <td>0.000000</td>\n",
       "      <td>0.000000</td>\n",
       "      <td>300.095909</td>\n",
       "      <td>191.962852</td>\n",
       "      <td>2.0</td>\n",
       "      <td>5.000000</td>\n",
       "      <td>3.000000</td>\n",
       "    </tr>\n",
       "    <tr>\n",
       "      <th>25%</th>\n",
       "      <td>0.000000</td>\n",
       "      <td>2.000000</td>\n",
       "      <td>5480.000000</td>\n",
       "      <td>24.000000</td>\n",
       "      <td>2.000000</td>\n",
       "      <td>0.000000</td>\n",
       "      <td>0.000000</td>\n",
       "      <td>0.000000</td>\n",
       "      <td>0.000000</td>\n",
       "      <td>0.000000</td>\n",
       "      <td>332.229899</td>\n",
       "      <td>218.302029</td>\n",
       "      <td>2.0</td>\n",
       "      <td>24.000000</td>\n",
       "      <td>3.000000</td>\n",
       "    </tr>\n",
       "    <tr>\n",
       "      <th>50%</th>\n",
       "      <td>0.000000</td>\n",
       "      <td>3.000000</td>\n",
       "      <td>11025.500000</td>\n",
       "      <td>31.000000</td>\n",
       "      <td>2.000000</td>\n",
       "      <td>1.000000</td>\n",
       "      <td>1.000000</td>\n",
       "      <td>3.000000</td>\n",
       "      <td>3.000000</td>\n",
       "      <td>1.000000</td>\n",
       "      <td>361.930298</td>\n",
       "      <td>235.025216</td>\n",
       "      <td>2.0</td>\n",
       "      <td>31.000000</td>\n",
       "      <td>15.000000</td>\n",
       "    </tr>\n",
       "    <tr>\n",
       "      <th>75%</th>\n",
       "      <td>1.000000</td>\n",
       "      <td>99.000000</td>\n",
       "      <td>16632.250000</td>\n",
       "      <td>42.000000</td>\n",
       "      <td>2.000000</td>\n",
       "      <td>1.000000</td>\n",
       "      <td>1.000000</td>\n",
       "      <td>3.000000</td>\n",
       "      <td>3.000000</td>\n",
       "      <td>1.000000</td>\n",
       "      <td>391.567662</td>\n",
       "      <td>253.759401</td>\n",
       "      <td>2.0</td>\n",
       "      <td>42.000000</td>\n",
       "      <td>15.000000</td>\n",
       "    </tr>\n",
       "    <tr>\n",
       "      <th>max</th>\n",
       "      <td>1.000000</td>\n",
       "      <td>99.000000</td>\n",
       "      <td>151811.000000</td>\n",
       "      <td>102.000000</td>\n",
       "      <td>235.000000</td>\n",
       "      <td>6.000000</td>\n",
       "      <td>1.000000</td>\n",
       "      <td>6.000000</td>\n",
       "      <td>9.000000</td>\n",
       "      <td>1.000000</td>\n",
       "      <td>5568.784139</td>\n",
       "      <td>12249.084770</td>\n",
       "      <td>2.0</td>\n",
       "      <td>102.000000</td>\n",
       "      <td>75.000000</td>\n",
       "    </tr>\n",
       "  </tbody>\n",
       "</table>\n",
       "</div>"
      ],
      "text/plain": [
       "             TARGET       loyalty  ...         age_P         lor_M\n",
       "count  11008.000000  11008.000000  ...  11008.000000  11008.000000\n",
       "mean       0.273256     46.533612  ...     34.845203     14.791788\n",
       "std        0.445651     48.292402  ...     13.032781     11.272981\n",
       "min        0.000000      0.000000  ...      5.000000      3.000000\n",
       "25%        0.000000      2.000000  ...     24.000000      3.000000\n",
       "50%        0.000000      3.000000  ...     31.000000     15.000000\n",
       "75%        1.000000     99.000000  ...     42.000000     15.000000\n",
       "max        1.000000     99.000000  ...    102.000000     75.000000\n",
       "\n",
       "[8 rows x 15 columns]"
      ]
     },
     "execution_count": 23,
     "metadata": {
      "tags": []
     },
     "output_type": "execute_result"
    }
   ],
   "source": [
    "# sorting by ID\n",
    "df.sort_values(\"ID\", inplace = True) \n",
    "  \n",
    "# dropping ALL duplicte values but keep first showed \n",
    "df.drop_duplicates(subset =\"ID\", \n",
    "                     keep = 'first', inplace = True) \n",
    "  \n",
    "# displaying data \n",
    "df.describe()"
   ]
  },
  {
   "cell_type": "markdown",
   "metadata": {
    "colab_type": "text",
    "id": "i7_12hVHh5Ni"
   },
   "source": [
    "Another data need to deal with is values -999999, based on describe function we know, the highest number is 235, since we already in city column, all the ordinal numbers are representing one city. \n",
    "The magnitude and positivity do not have real meaning. We can just assign this city to an arbitrary number which is not the same from the list. To make it a safe value, we decide to convert it into 999 since the previous highest is 235 and this assignment will not cause an extra increase in certain city distribution."
   ]
  },
  {
   "cell_type": "code",
   "execution_count": null,
   "metadata": {
    "colab": {},
    "colab_type": "code",
    "id": "H6FQoQrUh9Qk"
   },
   "outputs": [],
   "source": [
    "#replace\n",
    "df['city'].replace({-999999: 999}, inplace=True)"
   ]
  },
  {
   "cell_type": "markdown",
   "metadata": {
    "colab_type": "text",
    "id": "xE47GBoJiABe"
   },
   "source": [
    "Now we finished the data preparation. We can re-run our EDA to see the difference."
   ]
  },
  {
   "cell_type": "markdown",
   "metadata": {
    "colab_type": "text",
    "id": "rWSrdLE6Mw3m"
   },
   "source": [
    "### Prepped Data Review"
   ]
  },
  {
   "cell_type": "code",
   "execution_count": null,
   "metadata": {
    "colab": {
     "base_uri": "https://localhost:8080/",
     "height": 893
    },
    "colab_type": "code",
    "id": "jWCCkDJSEAUC",
    "outputId": "86c89cdc-3914-4d35-a802-d2eb6b84abc8"
   },
   "outputs": [
    {
     "data": {
      "text/plain": [
       "array([[<matplotlib.axes._subplots.AxesSubplot object at 0x7f1c1ab608d0>,\n",
       "        <matplotlib.axes._subplots.AxesSubplot object at 0x7f1c1aa81f98>,\n",
       "        <matplotlib.axes._subplots.AxesSubplot object at 0x7f1c1aaba390>,\n",
       "        <matplotlib.axes._subplots.AxesSubplot object at 0x7f1c1aa68710>],\n",
       "       [<matplotlib.axes._subplots.AxesSubplot object at 0x7f1c1aa1aa90>,\n",
       "        <matplotlib.axes._subplots.AxesSubplot object at 0x7f1c1a9cde10>,\n",
       "        <matplotlib.axes._subplots.AxesSubplot object at 0x7f1c1a98c1d0>,\n",
       "        <matplotlib.axes._subplots.AxesSubplot object at 0x7f1c1a93e518>],\n",
       "       [<matplotlib.axes._subplots.AxesSubplot object at 0x7f1c1a93e588>,\n",
       "        <matplotlib.axes._subplots.AxesSubplot object at 0x7f1c1a921c50>,\n",
       "        <matplotlib.axes._subplots.AxesSubplot object at 0x7f1c1a8d4fd0>,\n",
       "        <matplotlib.axes._subplots.AxesSubplot object at 0x7f1c1b383128>],\n",
       "       [<matplotlib.axes._subplots.AxesSubplot object at 0x7f1c1bea6b38>,\n",
       "        <matplotlib.axes._subplots.AxesSubplot object at 0x7f1c1c1a18d0>,\n",
       "        <matplotlib.axes._subplots.AxesSubplot object at 0x7f1c1f0c5cf8>,\n",
       "        <matplotlib.axes._subplots.AxesSubplot object at 0x7f1c1bf9a048>]],\n",
       "      dtype=object)"
      ]
     },
     "execution_count": 25,
     "metadata": {
      "tags": []
     },
     "output_type": "execute_result"
    },
    {
     "data": {
      "image/png": "[encoded data removed]",
      "text/plain": [
       "<Figure size 864x720 with 16 Axes>"
      ]
     },
     "metadata": {
      "needs_background": "light",
      "tags": []
     },
     "output_type": "display_data"
    }
   ],
   "source": [
    "df.hist(figsize=(12,10))"
   ]
  },
  {
   "cell_type": "markdown",
   "metadata": {
    "colab_type": "text",
    "id": "_XqPdX-RPVCp"
   },
   "source": [
    "Now we can see that after we handled the repetitive rows and negative values, the distribution didn't change a lot except values on city are all positive. Overall it only changed a bit on mean or medians but we got a clearer data set to build models and do further analysis.\n"
   ]
  },
  {
   "cell_type": "code",
   "execution_count": null,
   "metadata": {
    "colab": {
     "base_uri": "https://localhost:8080/",
     "height": 101
    },
    "colab_type": "code",
    "id": "RgGzfamNpMa5",
    "outputId": "cbf4712c-62d5-458b-8107-5cf2691fd505"
   },
   "outputs": [
    {
     "data": {
      "text/plain": [
       "array([  2, 229, 178,   0,   8,   3,   4,  10, 110,   7, 177,   1,   6,\n",
       "       137,  17, 999,  13,  14, 148,   5,  11,  15, 122,  22,   9,  58,\n",
       "       121,  12, 127,  33, 125, 209,  72,  31,  51,  16, 107, 174, 141,\n",
       "       191, 104, 129,  18,  49,  73,  94, 131, 219, 187, 114,  28,  89,\n",
       "       115,  53, 126,  47,  84, 235, 161, 197,  23,  30, 116, 111, 142])"
      ]
     },
     "execution_count": 26,
     "metadata": {
      "tags": []
     },
     "output_type": "execute_result"
    }
   ],
   "source": [
    "#check unique value\n",
    "df.city.unique()"
   ]
  },
  {
   "cell_type": "markdown",
   "metadata": {
    "colab_type": "text",
    "id": "tufVQ5eFsAJz"
   },
   "source": [
    "Now we can see that we change the unclassified value(999) of city."
   ]
  },
  {
   "cell_type": "markdown",
   "metadata": {
    "colab_type": "text",
    "id": "Fan4Tp7HsPau"
   },
   "source": [
    "Then we can do the data preparation part."
   ]
  },
  {
   "cell_type": "markdown",
   "metadata": {
    "colab_type": "text",
    "id": "qqh2bbSWQlUT"
   },
   "source": [
    "### Chi-square testing for selecting categorical feature\n",
    "\n",
    "We will use chi-squared statistic for feature selection on categorical data. To use chi-square test，we also need to run ordinalcoder to the explanatory variable. variable. Then select K best function is to select the k lowest p-values based on chi2 Statistics. Thus p-value gave the score of these relevant features."
   ]
  },
  {
   "cell_type": "code",
   "execution_count": null,
   "metadata": {
    "colab": {},
    "colab_type": "code",
    "id": "XSl0Lw9gUHFn"
   },
   "outputs": [],
   "source": [
    "# categorized data\n",
    "cate_data= df.copy()\n",
    "cate_data.drop(['ID','city','turnover_A','turnover_B','age','age_P','lor_M','LOR'], axis=1, inplace= True)"
   ]
  },
  {
   "cell_type": "code",
   "execution_count": null,
   "metadata": {
    "colab": {
     "base_uri": "https://localhost:8080/",
     "height": 166
    },
    "colab_type": "code",
    "id": "LB9JdfHu3vzE",
    "outputId": "8a927bc2-ade7-4d8b-83d9-146d599ea92c"
   },
   "outputs": [
    {
     "data": {
      "text/html": [
       "<div>\n",
       "<style scoped>\n",
       "    .dataframe tbody tr th:only-of-type {\n",
       "        vertical-align: middle;\n",
       "    }\n",
       "\n",
       "    .dataframe tbody tr th {\n",
       "        vertical-align: top;\n",
       "    }\n",
       "\n",
       "    .dataframe thead th {\n",
       "        text-align: right;\n",
       "    }\n",
       "</style>\n",
       "<table border=\"1\" class=\"dataframe\">\n",
       "  <thead>\n",
       "    <tr style=\"text-align: right;\">\n",
       "      <th></th>\n",
       "      <th>TARGET</th>\n",
       "      <th>loyalty</th>\n",
       "      <th>prod_A</th>\n",
       "      <th>type_A</th>\n",
       "      <th>type_B</th>\n",
       "      <th>prod_B</th>\n",
       "      <th>contract</th>\n",
       "    </tr>\n",
       "  </thead>\n",
       "  <tbody>\n",
       "    <tr>\n",
       "      <th>3008</th>\n",
       "      <td>0</td>\n",
       "      <td>99</td>\n",
       "      <td>0</td>\n",
       "      <td>0</td>\n",
       "      <td>0</td>\n",
       "      <td>0</td>\n",
       "      <td>2</td>\n",
       "    </tr>\n",
       "    <tr>\n",
       "      <th>3009</th>\n",
       "      <td>0</td>\n",
       "      <td>3</td>\n",
       "      <td>0</td>\n",
       "      <td>0</td>\n",
       "      <td>3</td>\n",
       "      <td>1</td>\n",
       "      <td>2</td>\n",
       "    </tr>\n",
       "    <tr>\n",
       "      <th>3010</th>\n",
       "      <td>0</td>\n",
       "      <td>99</td>\n",
       "      <td>1</td>\n",
       "      <td>3</td>\n",
       "      <td>3</td>\n",
       "      <td>1</td>\n",
       "      <td>2</td>\n",
       "    </tr>\n",
       "    <tr>\n",
       "      <th>3011</th>\n",
       "      <td>0</td>\n",
       "      <td>2</td>\n",
       "      <td>1</td>\n",
       "      <td>3</td>\n",
       "      <td>3</td>\n",
       "      <td>1</td>\n",
       "      <td>2</td>\n",
       "    </tr>\n",
       "  </tbody>\n",
       "</table>\n",
       "</div>"
      ],
      "text/plain": [
       "      TARGET  loyalty  prod_A  type_A  type_B  prod_B  contract\n",
       "3008       0       99       0       0       0       0         2\n",
       "3009       0        3       0       0       3       1         2\n",
       "3010       0       99       1       3       3       1         2\n",
       "3011       0        2       1       3       3       1         2"
      ]
     },
     "execution_count": 28,
     "metadata": {
      "tags": []
     },
     "output_type": "execute_result"
    }
   ],
   "source": [
    "#sanity check\n",
    "cate_data.head(4)"
   ]
  },
  {
   "cell_type": "code",
   "execution_count": null,
   "metadata": {
    "colab": {
     "base_uri": "https://localhost:8080/",
     "height": 382
    },
    "colab_type": "code",
    "id": "GiojMeuOImBP",
    "outputId": "b5cb64fe-13e2-41f3-8f72-014a3b8bc280"
   },
   "outputs": [
    {
     "name": "stdout",
     "output_type": "stream",
     "text": [
      "Feature 0: 6383.000000\n",
      "Feature 1: 100.779245\n",
      "Feature 2: 313.679590\n",
      "Feature 3: 310.573707\n",
      "Feature 4: 371.671810\n",
      "Feature 5: 311.024441\n",
      "Feature 6: nan\n"
     ]
    },
    {
     "data": {
      "image/png": "[encoded data removed]",
      "text/plain": [
       "<Figure size 432x288 with 1 Axes>"
      ]
     },
     "metadata": {
      "needs_background": "light",
      "tags": []
     },
     "output_type": "display_data"
    }
   ],
   "source": [
    "# load library\n",
    "from pandas import read_csv\n",
    "from sklearn.model_selection import train_test_split\n",
    "from sklearn.preprocessing import LabelEncoder\n",
    "from sklearn.preprocessing import OrdinalEncoder\n",
    "from sklearn.feature_selection import SelectKBest\n",
    "from sklearn.feature_selection import chi2\n",
    "from matplotlib import pyplot\n",
    " \n",
    "# load the dataset\n",
    "def load_dataset(dataframe):\n",
    "\t# load the dataset as a pandas DataFrame\n",
    "\tdata = dataframe.copy()\n",
    "\t# retrieve numpy array\n",
    "\tdataset = data.values\n",
    "\t# split into input (X) and output (y) variables\n",
    "\t#x is all the attributes\n",
    "\t# y is our response variable\n",
    "\tX = dataset[:, :7]\n",
    "\ty = dataset[:,0]\n",
    "\t# format all fields as string\n",
    "\tX = X.astype(str)\n",
    "\treturn X, y\n",
    " \n",
    "# prepare input data\n",
    "def prepare_inputs(X_train, X_test):\n",
    "\toe = OrdinalEncoder()\n",
    "\toe.fit(X_train)\n",
    "\tX_train_enc = oe.transform(X_train)\n",
    "\tX_test_enc = oe.transform(X_test)\n",
    "\treturn X_train_enc, X_test_enc\n",
    " \n",
    "# prepare target\n",
    "def prepare_targets(y_train, y_test):\n",
    "\tle = LabelEncoder()\n",
    "\tle.fit(y_train)\n",
    "\ty_train_enc = le.transform(y_train)\n",
    "\ty_test_enc = le.transform(y_test)\n",
    "\treturn y_train_enc, y_test_enc\n",
    " \n",
    "# feature selection use chisquare testing\n",
    "def select_features(X_train, y_train, X_test):\n",
    "\tfs = SelectKBest(score_func=chi2, k='all')\n",
    "\tfs.fit(X_train, y_train)\n",
    "\tX_train_fs = fs.transform(X_train)\n",
    "\tX_test_fs = fs.transform(X_test)\n",
    "\treturn X_train_fs, X_test_fs, fs\n",
    " \n",
    "# load the dataset\n",
    "X, y = load_dataset(cate_data)\n",
    "# split into train and test sets\n",
    "X_train, X_test, y_train, y_test = train_test_split(X, y, test_size=0.2, random_state=22)\n",
    "# prepare input data\n",
    "X_train_enc, X_test_enc = prepare_inputs(X_train, X_test)\n",
    "# prepare output data\n",
    "y_train_enc, y_test_enc = prepare_targets(y_train, y_test)\n",
    "# feature selection\n",
    "X_train_fs, X_test_fs, fs = select_features(X_train_enc, y_train_enc, X_test_enc)\n",
    "# what are scores for the features\n",
    "for i in range(len(fs.scores_)):\n",
    "\tprint('Feature %d: %f' % (i, fs.scores_[i]))\n",
    "# plot the scores\n",
    "pyplot.bar([i for i in range(len(fs.scores_))], fs.scores_)\n",
    "pyplot.show()"
   ]
  },
  {
   "cell_type": "markdown",
   "metadata": {
    "colab_type": "text",
    "id": "o5j4wFDn33fE"
   },
   "source": [
    "Based on feature selection, feature 0 is the target variable, which should not count. Feature 6, contract, has only one value and can not be applied to the calculation. Based on the score, we choose feature 3 to feature 6 which includes prod_A, type_A, prod_B, and type_B.\n"
   ]
  },
  {
   "cell_type": "markdown",
   "metadata": {
    "colab_type": "text",
    "id": "8GRwiaRrRwAG"
   },
   "source": [
    "Combining our analysis of both features from numerical and categorical variables.\n",
    "We choose features as follows:\n",
    "- **prod_A**, **type_A**, **prod_B**,**type_B**, **age**, **turnover A** and **turnover B** for the first model.\n",
    "\n",
    "- Since LOR is not as obvious as age parameter, we will use it later on testing the performance.\n"
   ]
  },
  {
   "cell_type": "markdown",
   "metadata": {
    "colab_type": "text",
    "id": "-EiExa7OLP-C"
   },
   "source": [
    "## Machine Learning Models"
   ]
  },
  {
   "cell_type": "markdown",
   "metadata": {
    "colab_type": "text",
    "id": "MrKAQglXO1t3"
   },
   "source": [
    "We firstly set up the needed feature for the model, we tested with the one which does not have Lor. On the testing process, the added Lor feature enables some algorithms to perform better and meanwhile let some algorithms such as KNN to perform worse. We believe increase dimensionality may cause trouble on this model. Also, this sophisticated model may add more problems to overfitting. Therefore we only show the model with these seven features: prod_A, type_A, prod_B,type_B, age, turnover A and turnover B for the first model. "
   ]
  },
  {
   "cell_type": "code",
   "execution_count": null,
   "metadata": {
    "colab": {
     "base_uri": "https://localhost:8080/",
     "height": 134
    },
    "colab_type": "code",
    "id": "Y5zXI6rEfKnw",
    "outputId": "462a7cba-a7e6-4e21-ab0d-f44058318e8c"
   },
   "outputs": [
    {
     "name": "stderr",
     "output_type": "stream",
     "text": [
      "/usr/local/lib/python3.6/dist-packages/pandas/core/frame.py:2963: SettingWithCopyWarning: \n",
      "A value is trying to be set on a copy of a slice from a DataFrame.\n",
      "Try using .loc[row_indexer,col_indexer] = value instead\n",
      "\n",
      "See the caveats in the documentation: https://pandas.pydata.org/pandas-docs/stable/user_guide/indexing.html#returning-a-view-versus-a-copy\n",
      "  self[k1] = value[k2]\n"
     ]
    },
    {
     "data": {
      "text/plain": [
       "dtype('O')"
      ]
     },
     "execution_count": 30,
     "metadata": {
      "tags": []
     },
     "output_type": "execute_result"
    }
   ],
   "source": [
    "#pick  features for modeling\n",
    "#X = df[['turnover_A','turnover_B','age','prod_A','type_A','prod_B','type_B','LOR']]\n",
    "X = df[['turnover_A','turnover_B','age','prod_A','type_A','prod_B','type_B']]\n",
    "y = df['TARGET']\n",
    "X[['prod_A','type_A','prod_B','type_B']]= X[['prod_A','type_A','prod_B','type_B']].astype(object) \n",
    "X.type_A.dtype"
   ]
  },
  {
   "cell_type": "code",
   "execution_count": null,
   "metadata": {
    "colab": {
     "base_uri": "https://localhost:8080/",
     "height": 195
    },
    "colab_type": "code",
    "id": "hrgsmqTVgut8",
    "outputId": "1ad23eeb-c812-4674-d131-a20a1e1a9627"
   },
   "outputs": [
    {
     "data": {
      "text/html": [
       "<div>\n",
       "<style scoped>\n",
       "    .dataframe tbody tr th:only-of-type {\n",
       "        vertical-align: middle;\n",
       "    }\n",
       "\n",
       "    .dataframe tbody tr th {\n",
       "        vertical-align: top;\n",
       "    }\n",
       "\n",
       "    .dataframe thead th {\n",
       "        text-align: right;\n",
       "    }\n",
       "</style>\n",
       "<table border=\"1\" class=\"dataframe\">\n",
       "  <thead>\n",
       "    <tr style=\"text-align: right;\">\n",
       "      <th></th>\n",
       "      <th>turnover_A</th>\n",
       "      <th>turnover_B</th>\n",
       "      <th>age</th>\n",
       "      <th>prod_A_0</th>\n",
       "      <th>prod_A_1</th>\n",
       "      <th>type_A_0</th>\n",
       "      <th>type_A_3</th>\n",
       "      <th>type_A_6</th>\n",
       "      <th>prod_B_0</th>\n",
       "      <th>prod_B_1</th>\n",
       "      <th>type_B_0</th>\n",
       "      <th>type_B_3</th>\n",
       "      <th>type_B_6</th>\n",
       "      <th>type_B_9</th>\n",
       "    </tr>\n",
       "  </thead>\n",
       "  <tbody>\n",
       "    <tr>\n",
       "      <th>3008</th>\n",
       "      <td>311.370341</td>\n",
       "      <td>237.816769</td>\n",
       "      <td>23</td>\n",
       "      <td>1</td>\n",
       "      <td>0</td>\n",
       "      <td>1</td>\n",
       "      <td>0</td>\n",
       "      <td>0</td>\n",
       "      <td>1</td>\n",
       "      <td>0</td>\n",
       "      <td>1</td>\n",
       "      <td>0</td>\n",
       "      <td>0</td>\n",
       "      <td>0</td>\n",
       "    </tr>\n",
       "    <tr>\n",
       "      <th>3009</th>\n",
       "      <td>362.229940</td>\n",
       "      <td>209.711882</td>\n",
       "      <td>34</td>\n",
       "      <td>1</td>\n",
       "      <td>0</td>\n",
       "      <td>1</td>\n",
       "      <td>0</td>\n",
       "      <td>0</td>\n",
       "      <td>0</td>\n",
       "      <td>1</td>\n",
       "      <td>0</td>\n",
       "      <td>1</td>\n",
       "      <td>0</td>\n",
       "      <td>0</td>\n",
       "    </tr>\n",
       "    <tr>\n",
       "      <th>3010</th>\n",
       "      <td>360.957473</td>\n",
       "      <td>227.844697</td>\n",
       "      <td>23</td>\n",
       "      <td>0</td>\n",
       "      <td>1</td>\n",
       "      <td>0</td>\n",
       "      <td>1</td>\n",
       "      <td>0</td>\n",
       "      <td>0</td>\n",
       "      <td>1</td>\n",
       "      <td>0</td>\n",
       "      <td>1</td>\n",
       "      <td>0</td>\n",
       "      <td>0</td>\n",
       "    </tr>\n",
       "    <tr>\n",
       "      <th>3011</th>\n",
       "      <td>363.044144</td>\n",
       "      <td>239.926745</td>\n",
       "      <td>37</td>\n",
       "      <td>0</td>\n",
       "      <td>1</td>\n",
       "      <td>0</td>\n",
       "      <td>1</td>\n",
       "      <td>0</td>\n",
       "      <td>0</td>\n",
       "      <td>1</td>\n",
       "      <td>0</td>\n",
       "      <td>1</td>\n",
       "      <td>0</td>\n",
       "      <td>0</td>\n",
       "    </tr>\n",
       "    <tr>\n",
       "      <th>3012</th>\n",
       "      <td>386.091538</td>\n",
       "      <td>1559.222814</td>\n",
       "      <td>39</td>\n",
       "      <td>1</td>\n",
       "      <td>0</td>\n",
       "      <td>1</td>\n",
       "      <td>0</td>\n",
       "      <td>0</td>\n",
       "      <td>0</td>\n",
       "      <td>1</td>\n",
       "      <td>0</td>\n",
       "      <td>1</td>\n",
       "      <td>0</td>\n",
       "      <td>0</td>\n",
       "    </tr>\n",
       "  </tbody>\n",
       "</table>\n",
       "</div>"
      ],
      "text/plain": [
       "      turnover_A   turnover_B  age  ...  type_B_3  type_B_6  type_B_9\n",
       "3008  311.370341   237.816769   23  ...         0         0         0\n",
       "3009  362.229940   209.711882   34  ...         1         0         0\n",
       "3010  360.957473   227.844697   23  ...         1         0         0\n",
       "3011  363.044144   239.926745   37  ...         1         0         0\n",
       "3012  386.091538  1559.222814   39  ...         1         0         0\n",
       "\n",
       "[5 rows x 14 columns]"
      ]
     },
     "execution_count": 31,
     "metadata": {
      "tags": []
     },
     "output_type": "execute_result"
    }
   ],
   "source": [
    "X = pd.get_dummies(X)\n",
    "X.head()"
   ]
  },
  {
   "cell_type": "code",
   "execution_count": null,
   "metadata": {
    "colab": {},
    "colab_type": "code",
    "id": "22Vgqp2tNObu"
   },
   "outputs": [],
   "source": [
    "from sklearn.model_selection import train_test_split\n",
    "X_train, X_test, y_train, y_test = train_test_split(X,y,test_size=0.2, random_state=66)\n",
    "\n",
    "# Here we will use MinMaxscaler to scale these numerical values.\n",
    "from sklearn.preprocessing import MinMaxScaler\n",
    "#MinMax subtracts the minimum value in the feature and then divides by the range\n",
    "scaler = MinMaxScaler()\n",
    "X_train = scaler.fit_transform(X_train)\n",
    "X_test = scaler.transform(X_test)"
   ]
  },
  {
   "cell_type": "code",
   "execution_count": null,
   "metadata": {
    "colab": {
     "base_uri": "https://localhost:8080/",
     "height": 195
    },
    "colab_type": "code",
    "id": "fFTlDqA6V6io",
    "outputId": "ad4b48d3-436c-457b-98ab-43e3bc4747c2"
   },
   "outputs": [
    {
     "data": {
      "text/html": [
       "<div>\n",
       "<style scoped>\n",
       "    .dataframe tbody tr th:only-of-type {\n",
       "        vertical-align: middle;\n",
       "    }\n",
       "\n",
       "    .dataframe tbody tr th {\n",
       "        vertical-align: top;\n",
       "    }\n",
       "\n",
       "    .dataframe thead th {\n",
       "        text-align: right;\n",
       "    }\n",
       "</style>\n",
       "<table border=\"1\" class=\"dataframe\">\n",
       "  <thead>\n",
       "    <tr style=\"text-align: right;\">\n",
       "      <th></th>\n",
       "      <th>turnover_A</th>\n",
       "      <th>turnover_B</th>\n",
       "      <th>age</th>\n",
       "      <th>prod_A_0</th>\n",
       "      <th>prod_A_1</th>\n",
       "      <th>type_A_0</th>\n",
       "      <th>type_A_3</th>\n",
       "      <th>type_A_6</th>\n",
       "      <th>prod_B_0</th>\n",
       "      <th>prod_B_1</th>\n",
       "      <th>type_B_0</th>\n",
       "      <th>type_B_3</th>\n",
       "      <th>type_B_6</th>\n",
       "      <th>type_B_9</th>\n",
       "    </tr>\n",
       "  </thead>\n",
       "  <tbody>\n",
       "    <tr>\n",
       "      <th>3008</th>\n",
       "      <td>311.370341</td>\n",
       "      <td>237.816769</td>\n",
       "      <td>23</td>\n",
       "      <td>1</td>\n",
       "      <td>0</td>\n",
       "      <td>1</td>\n",
       "      <td>0</td>\n",
       "      <td>0</td>\n",
       "      <td>1</td>\n",
       "      <td>0</td>\n",
       "      <td>1</td>\n",
       "      <td>0</td>\n",
       "      <td>0</td>\n",
       "      <td>0</td>\n",
       "    </tr>\n",
       "    <tr>\n",
       "      <th>3009</th>\n",
       "      <td>362.229940</td>\n",
       "      <td>209.711882</td>\n",
       "      <td>34</td>\n",
       "      <td>1</td>\n",
       "      <td>0</td>\n",
       "      <td>1</td>\n",
       "      <td>0</td>\n",
       "      <td>0</td>\n",
       "      <td>0</td>\n",
       "      <td>1</td>\n",
       "      <td>0</td>\n",
       "      <td>1</td>\n",
       "      <td>0</td>\n",
       "      <td>0</td>\n",
       "    </tr>\n",
       "    <tr>\n",
       "      <th>3010</th>\n",
       "      <td>360.957473</td>\n",
       "      <td>227.844697</td>\n",
       "      <td>23</td>\n",
       "      <td>0</td>\n",
       "      <td>1</td>\n",
       "      <td>0</td>\n",
       "      <td>1</td>\n",
       "      <td>0</td>\n",
       "      <td>0</td>\n",
       "      <td>1</td>\n",
       "      <td>0</td>\n",
       "      <td>1</td>\n",
       "      <td>0</td>\n",
       "      <td>0</td>\n",
       "    </tr>\n",
       "    <tr>\n",
       "      <th>3011</th>\n",
       "      <td>363.044144</td>\n",
       "      <td>239.926745</td>\n",
       "      <td>37</td>\n",
       "      <td>0</td>\n",
       "      <td>1</td>\n",
       "      <td>0</td>\n",
       "      <td>1</td>\n",
       "      <td>0</td>\n",
       "      <td>0</td>\n",
       "      <td>1</td>\n",
       "      <td>0</td>\n",
       "      <td>1</td>\n",
       "      <td>0</td>\n",
       "      <td>0</td>\n",
       "    </tr>\n",
       "    <tr>\n",
       "      <th>3012</th>\n",
       "      <td>386.091538</td>\n",
       "      <td>1559.222814</td>\n",
       "      <td>39</td>\n",
       "      <td>1</td>\n",
       "      <td>0</td>\n",
       "      <td>1</td>\n",
       "      <td>0</td>\n",
       "      <td>0</td>\n",
       "      <td>0</td>\n",
       "      <td>1</td>\n",
       "      <td>0</td>\n",
       "      <td>1</td>\n",
       "      <td>0</td>\n",
       "      <td>0</td>\n",
       "    </tr>\n",
       "  </tbody>\n",
       "</table>\n",
       "</div>"
      ],
      "text/plain": [
       "      turnover_A   turnover_B  age  ...  type_B_3  type_B_6  type_B_9\n",
       "3008  311.370341   237.816769   23  ...         0         0         0\n",
       "3009  362.229940   209.711882   34  ...         1         0         0\n",
       "3010  360.957473   227.844697   23  ...         1         0         0\n",
       "3011  363.044144   239.926745   37  ...         1         0         0\n",
       "3012  386.091538  1559.222814   39  ...         1         0         0\n",
       "\n",
       "[5 rows x 14 columns]"
      ]
     },
     "execution_count": 33,
     "metadata": {
      "tags": []
     },
     "output_type": "execute_result"
    }
   ],
   "source": [
    "X.head()"
   ]
  },
  {
   "cell_type": "code",
   "execution_count": null,
   "metadata": {
    "colab": {
     "base_uri": "https://localhost:8080/",
     "height": 67
    },
    "colab_type": "code",
    "id": "mhnQ_6-qWAWm",
    "outputId": "f4602187-dacd-4145-f1fd-c8c9e4ed26a2"
   },
   "outputs": [
    {
     "data": {
      "text/plain": [
       "array([0.00902865, 0.00406918, 0.32989691, 1.        , 0.        ,\n",
       "       1.        , 0.        , 0.        , 1.        , 0.        ,\n",
       "       1.        , 0.        , 0.        , 0.        ])"
      ]
     },
     "execution_count": 34,
     "metadata": {
      "tags": []
     },
     "output_type": "execute_result"
    }
   ],
   "source": [
    "X_train[0, :]"
   ]
  },
  {
   "cell_type": "markdown",
   "metadata": {
    "colab_type": "text",
    "id": "6-FZyG-FotCb"
   },
   "source": [
    "Now we will start the model building. The one reason we list these varieties of algorithms is based on the requirement of the ensembling model. To guarantee the performance of the Ensemble model, we need to let base models be diverse and independent. Thus can reduce the prediction error. "
   ]
  },
  {
   "cell_type": "code",
   "execution_count": null,
   "metadata": {
    "colab": {},
    "colab_type": "code",
    "id": "eLg-dfh2WsYz"
   },
   "outputs": [],
   "source": [
    "# load libraries\n",
    "from sklearn.metrics import accuracy_score,precision_score,recall_score,f1_score  \n",
    "from sklearn.model_selection import cross_val_score"
   ]
  },
  {
   "cell_type": "code",
   "execution_count": null,
   "metadata": {
    "colab": {},
    "colab_type": "code",
    "id": "73Lj55voXAkf"
   },
   "outputs": [],
   "source": [
    "# Collect all kinds of scores \n",
    "Scores = []\n",
    "CV_Scores = []\n",
    "Accuracy = []\n",
    "Precision = []\n",
    "Recall = []\n",
    "F1_score = []\n",
    "models = ['logistic regression', 'SVM', 'KNN', 'Random Forest', 'XG Boost Classifier', 'MLPClassifier', 'VotingClassifier']"
   ]
  },
  {
   "cell_type": "markdown",
   "metadata": {
    "colab_type": "text",
    "id": "ES1A3VibcpQA"
   },
   "source": [
    "Before we start all six models, we would like to mention the general process we did for all models. We either use algorithms or choose manually for hyperparameters. For the training part, we use cross-validation to test how well the model fits the training data. We use 5 fold cross-validation for its low bias and modest variance."
   ]
  },
  {
   "cell_type": "markdown",
   "metadata": {
    "colab_type": "text",
    "id": "m7N4l0PLNovy"
   },
   "source": [
    "### Logistic regression"
   ]
  },
  {
   "cell_type": "markdown",
   "metadata": {
    "colab_type": "text",
    "id": "TbrP4AgMK8aZ"
   },
   "source": [
    "We start with the simplest model for a categorical variable, logistic regression.   "
   ]
  },
  {
   "cell_type": "markdown",
   "metadata": {
    "colab_type": "text",
    "id": "K9xUBRnBLYj-"
   },
   "source": [
    "Since logistic regression is a simple model and We initially used the default setting for it. However default setting caused trouble in the later ensemble part, and error message let us know default lbfgs solver and too short iteration makes it problematic in ensembling process. Later we switch the solver and extend the max-iteration to make it process well. On determining sag or saga, we did some research, and also by testing, saga gave a better result."
   ]
  },
  {
   "cell_type": "code",
   "execution_count": null,
   "metadata": {
    "colab": {
     "base_uri": "https://localhost:8080/",
     "height": 272
    },
    "colab_type": "code",
    "id": "qudmXe1INkY9",
    "outputId": "72f6f4af-186a-4d40-ff51-d1d3c310acb5"
   },
   "outputs": [
    {
     "name": "stderr",
     "output_type": "stream",
     "text": [
      "/usr/local/lib/python3.6/dist-packages/sklearn/externals/six.py:31: FutureWarning: The module is deprecated in version 0.21 and will be removed in version 0.23 since we've dropped support for Python 2.7. Please rely on the official version of six (https://pypi.org/project/six/).\n",
      "  \"(https://pypi.org/project/six/).\", FutureWarning)\n",
      "/usr/local/lib/python3.6/dist-packages/sklearn/utils/deprecation.py:144: FutureWarning: The sklearn.neighbors.base module is  deprecated in version 0.22 and will be removed in version 0.24. The corresponding classes / functions should instead be imported from sklearn.neighbors. Anything that cannot be imported from sklearn.neighbors is now part of the private API.\n",
      "  warnings.warn(message, FutureWarning)\n",
      "[Parallel(n_jobs=1)]: Using backend SequentialBackend with 1 concurrent workers.\n"
     ]
    },
    {
     "name": "stdout",
     "output_type": "stream",
     "text": [
      "\n",
      "###### Logistic Regression ######\n",
      "Score : 0.7602\n",
      "cv_score : 0.7623\n",
      "Accuracy: 76.02179836512262\n",
      "Precision: 73.86610156553964\n",
      "Recall: 76.02179836512262\n",
      "F1-score: 73.0801222021306\n"
     ]
    },
    {
     "name": "stderr",
     "output_type": "stream",
     "text": [
      "[Parallel(n_jobs=1)]: Done   5 out of   5 | elapsed:    0.7s finished\n"
     ]
    }
   ],
   "source": [
    "from sklearn.linear_model import LogisticRegression\n",
    "#apply smote\n",
    "from imblearn.over_sampling import SMOTE\n",
    "\n",
    "#Start with default setting for logistic regression\n",
    "#model = LogisticRegression(solver='sag', max_iter=1000)\n",
    "model = LogisticRegression(solver='saga', max_iter=1000)\n",
    "#train the algorithm\n",
    "model.fit(X_train, y_train)\n",
    "#5 fold validation\n",
    "cv_score = cross_val_score(estimator = model, X = X_train, y = y_train, cv = 5,verbose = 1)\n",
    "y_pred = model.predict(X_test)\n",
    "print('')\n",
    "print('###### Logistic Regression ######')\n",
    "print('Score : %.4f' % model.score(X_test, y_test))\n",
    "print('cv_score : %.4f' % cv_score.mean())\n",
    "print('Accuracy:', 100* accuracy_score(y_test,y_pred))\n",
    "print('Precision:', 100* precision_score(y_test,y_pred,average='weighted')) # for imbalanced data\n",
    "print('Recall:', 100* recall_score(y_test,y_pred,average='weighted'))\n",
    "print('F1-score:', 100* f1_score(y_test,y_pred,average='weighted'))\n",
    "Accuracy.append(100* accuracy_score(y_test,y_pred))\n",
    "Precision.append(100* precision_score(y_test,y_pred,average='weighted'))\n",
    "Recall.append(100* recall_score(y_test,y_pred,average='weighted'))\n",
    "F1_score.append(100* f1_score(y_test,y_pred,average='weighted'))\n",
    "CV_Scores.append(cv_score.mean())\n",
    "Scores.append(model.score(X_test, y_test))"
   ]
  },
  {
   "cell_type": "markdown",
   "metadata": {
    "colab_type": "text",
    "id": "7R1TDSAjOzUH"
   },
   "source": [
    "Although it is not satisfying, the result still beats the random guess of null error rate. "
   ]
  },
  {
   "cell_type": "markdown",
   "metadata": {
    "colab_type": "text",
    "id": "5-SB-cEeO-yF"
   },
   "source": [
    "### SVM\n"
   ]
  },
  {
   "cell_type": "markdown",
   "metadata": {
    "colab_type": "text",
    "id": "BLZ59Alubs04"
   },
   "source": [
    "Since the SVM 's classification is based on choosing the hyperplane, we knew that a more flexible shape will benefit this algorithm on classification. As expected, the linear kernel performs the worst, and We tried kernel with sigmoid and rbf before poly.\n",
    "since logistics is one type of sigmoid function, it has a very similar performance with logistic regression. Then we also vary the kernel. \n",
    "So we ended with poly function. The parameter of probability comes from our debugging of ensembling models. The reason is that voting classifiers require all classifiers to estimate class probabilities, while it is not in SVC by default. We change the default value to make the ensemble model work properly.  The drawback of this process is that  SVC class use cross-validation to estimate class probabilities, slowing down training, and it will add a predict_proba() method. "
   ]
  },
  {
   "cell_type": "code",
   "execution_count": null,
   "metadata": {
    "colab": {
     "base_uri": "https://localhost:8080/",
     "height": 185
    },
    "colab_type": "code",
    "id": "V_9cMSKjPMVt",
    "outputId": "508b54ed-c2c5-4435-c3d6-71de573be719"
   },
   "outputs": [
    {
     "name": "stderr",
     "output_type": "stream",
     "text": [
      "[Parallel(n_jobs=1)]: Using backend SequentialBackend with 1 concurrent workers.\n",
      "[Parallel(n_jobs=1)]: Done   5 out of   5 | elapsed:   40.6s finished\n"
     ]
    },
    {
     "name": "stdout",
     "output_type": "stream",
     "text": [
      "\n",
      "###### SVM ######\n",
      "Score : 0.7788\n",
      "cv_score : 0.7780\n",
      "Accuracy: 77.88374205267938\n",
      "Precision: 76.3745673217283\n",
      "Recall: 77.88374205267938\n",
      "F1-score: 75.54252519996923\n"
     ]
    }
   ],
   "source": [
    "#Import svm model\n",
    "from sklearn.svm import SVC\n",
    "#Create a svm Classifier\n",
    "#svm = SVC(kernel='sigmoid', probability = True)\n",
    "#svm = SVC(kernel='rbf', probability = True)\n",
    "svm = SVC(kernel='poly', probability = True)\n",
    "svm.fit(X_train, y_train)\n",
    "cv_score = cross_val_score(estimator = svm, X = X_train, y = y_train, cv = 5, verbose = 1)\n",
    "y_pred = svm.predict(X_test)\n",
    "print('')\n",
    "print('###### SVM ######')\n",
    "print('Score : %.4f' % svm.score(X_test, y_test))\n",
    "print('cv_score : %.4f' % cv_score.mean())\n",
    "print('Accuracy:', 100* accuracy_score(y_test,y_pred))\n",
    "print('Precision:', 100* precision_score(y_test,y_pred,average='weighted')) # for imbalanced data\n",
    "print('Recall:', 100* recall_score(y_test,y_pred,average='weighted'))\n",
    "print('F1-score:', 100* f1_score(y_test,y_pred,average='weighted'))\n",
    "Accuracy.append(100* accuracy_score(y_test,y_pred))\n",
    "Precision.append(100* precision_score(y_test,y_pred,average='weighted'))\n",
    "Recall.append(100* recall_score(y_test,y_pred,average='weighted'))\n",
    "F1_score.append(100* f1_score(y_test,y_pred,average='weighted'))\n",
    "CV_Scores.append(cv_score.mean())\n",
    "Scores.append(svm.score(X_test, y_test))"
   ]
  },
  {
   "cell_type": "markdown",
   "metadata": {
    "colab_type": "text",
    "id": "4pZniUZXPDOi"
   },
   "source": [
    "### KNN"
   ]
  },
  {
   "cell_type": "markdown",
   "metadata": {
    "colab_type": "text",
    "id": "YDGL7SmSVZx1"
   },
   "source": [
    "Since KNN requires the selection of K, as we know, a small value of k means that noise will have a higher influence on the result and a large value make it computationally expensive. We choose k=3 as a start point and gradually choose other K values until reached around the square root of sample size n as our models. Since this algorithm is not computing expensive, we can directly use grid search to find the best parameter."
   ]
  },
  {
   "cell_type": "code",
   "execution_count": null,
   "metadata": {
    "colab": {
     "base_uri": "https://localhost:8080/",
     "height": 272
    },
    "colab_type": "code",
    "id": "5V7IC2LIG5bO",
    "outputId": "03747af3-fd4e-47b6-a189-e58e6b9f6b65"
   },
   "outputs": [
    {
     "name": "stderr",
     "output_type": "stream",
     "text": [
      "/usr/local/lib/python3.6/dist-packages/sklearn/utils/deprecation.py:87: FutureWarning: Function safe_indexing is deprecated; safe_indexing is deprecated in version 0.22 and will be removed in version 0.24.\n",
      "  warnings.warn(msg, category=FutureWarning)\n"
     ]
    },
    {
     "name": "stdout",
     "output_type": "stream",
     "text": [
      "GridSearchCV(cv=None, error_score=nan,\n",
      "             estimator=KNeighborsClassifier(algorithm='auto', leaf_size=30,\n",
      "                                            metric='minkowski',\n",
      "                                            metric_params=None, n_jobs=None,\n",
      "                                            n_neighbors=5, p=2,\n",
      "                                            weights='uniform'),\n",
      "             iid='deprecated', n_jobs=None,\n",
      "             param_grid={'n_neighbors': [3, 5, 19, 29, 103, 119]},\n",
      "             pre_dispatch='2*n_jobs', refit=True, return_train_score=False,\n",
      "             scoring=None, verbose=0)\n",
      "Best Score:  0.838125\n",
      "Best parameters:  {'n_neighbors': 3}\n"
     ]
    }
   ],
   "source": [
    "# grid search\n",
    "from sklearn.neural_network import MLPClassifier\n",
    "from sklearn.model_selection import GridSearchCV\n",
    "\n",
    "#defining grid\n",
    "#train sample size is 14300, whose sqrt is 119\n",
    "n_neighbor = [3,5,19,29,103,119]\n",
    "\n",
    "#Try to use SMOTE to resample \n",
    "X1, y1  = SMOTE().fit_resample(X, y)\n",
    "X_train1, X_test1, y_train1, y_test1 = train_test_split(X1, y1, test_size=0.8, random_state=22)\n",
    "\n",
    "# create and fit  model, testing each parameters\n",
    "from sklearn.neighbors import KNeighborsClassifier\n",
    "knn_grid = GridSearchCV(estimator=KNeighborsClassifier(), param_grid=dict(n_neighbors=n_neighbor))\n",
    "knn_grid.fit(X_train1, y_train1)\n",
    "print(knn_grid)\n",
    "# summarize the results of the grid search\n",
    "print('Best Score: ',knn_grid.best_score_)\n",
    "print('Best parameters: ',knn_grid.best_params_)"
   ]
  },
  {
   "cell_type": "markdown",
   "metadata": {
    "colab_type": "text",
    "id": "yhqTTnkvHHnx"
   },
   "source": [
    "Based on testing, the accuracy of the model decreases since a large K value may reduce overfit. On the other hand, it raised the risk of overfitting. Although the best k selected by grid search is when k=3, we still determine to use k=11. Because this gave a relatively balanced result, which has a value close to k=3 with a less than 3% difference. What's more, it reduced the risk of making the model too sensitive."
   ]
  },
  {
   "cell_type": "code",
   "execution_count": null,
   "metadata": {
    "colab": {
     "base_uri": "https://localhost:8080/",
     "height": 185
    },
    "colab_type": "code",
    "id": "eoejABZbPZ16",
    "outputId": "3d19897a-dc25-4d62-ddee-962ee71fc9d0"
   },
   "outputs": [
    {
     "name": "stderr",
     "output_type": "stream",
     "text": [
      "[Parallel(n_jobs=1)]: Using backend SequentialBackend with 1 concurrent workers.\n",
      "[Parallel(n_jobs=1)]: Done   5 out of   5 | elapsed:    0.2s finished\n"
     ]
    },
    {
     "name": "stdout",
     "output_type": "stream",
     "text": [
      "\n",
      "###### KNN ######\n",
      "Score : 0.8297\n",
      "cv_score : 0.8412\n",
      "Accuracy: 82.96875\n",
      "Precision: 83.11615476726774\n",
      "Recall: 82.96875\n",
      "F1-score: 82.9493294722617\n"
     ]
    }
   ],
   "source": [
    "#KNN \n",
    "from sklearn.model_selection import train_test_split\n",
    "#apply smote\n",
    "from imblearn.over_sampling import SMOTE\n",
    "\n",
    "# Here we will use MinMaxscaler to scale these numerical values.\n",
    "from sklearn.preprocessing import MinMaxScaler\n",
    "#MinMax subtracts the minimum value in the feature and then divides by the range\n",
    "scaler = MinMaxScaler()\n",
    "X_train1 = scaler.fit_transform(X_train1)\n",
    "X_test1 = scaler.transform(X_test1)\n",
    "\n",
    "#set k=3\n",
    "# try knn = KNeighborsClassifier(n_neighbors=5)\n",
    "# try knn = KNeighborsClassifier(n_neighbors=113)\n",
    "knn = KNeighborsClassifier(n_neighbors=3)\n",
    "knn.fit(X_train1, y_train1)\n",
    "cv_score = cross_val_score(estimator = knn, X = X_train1, y = y_train1, cv = 5,verbose = 1)\n",
    "y_pred = knn.predict(X_test1)\n",
    "print('')\n",
    "print('###### KNN ######')\n",
    "print('Score : %.4f' % knn.score(X_test1, y_test1))\n",
    "print('cv_score : %.4f' % cv_score.mean())\n",
    "print('Accuracy:', 100* accuracy_score(y_test1,y_pred))\n",
    "print('Precision:', 100* precision_score(y_test1,y_pred,average='weighted')) # for imbalanced data\n",
    "print('Recall:', 100* recall_score(y_test1,y_pred,average='weighted'))\n",
    "print('F1-score:', 100* f1_score(y_test1,y_pred,average='weighted'))\n",
    "Accuracy.append(100* accuracy_score(y_test1,y_pred))\n",
    "Precision.append(100* precision_score(y_test1,y_pred,average='weighted'))\n",
    "Recall.append(100* recall_score(y_test1,y_pred,average='weighted'))\n",
    "F1_score.append(100* f1_score(y_test1,y_pred,average='weighted'))\n",
    "CV_Scores.append(cv_score.mean())\n",
    "Scores.append(knn.score(X_test1, y_test1))"
   ]
  },
  {
   "cell_type": "markdown",
   "metadata": {
    "colab_type": "text",
    "id": "e5m6YiYDmBrA"
   },
   "source": [
    "SVM takes care of outliers better than KNN. If training data is much larger than no. of features(m>>n), KNN is better than SVM. \n",
    "Here we did get a better result and it fits our expectations."
   ]
  },
  {
   "cell_type": "markdown",
   "metadata": {
    "colab_type": "text",
    "id": "jf5lVSdgPBk_"
   },
   "source": [
    "### Random forest"
   ]
  },
  {
   "cell_type": "markdown",
   "metadata": {
    "colab_type": "text",
    "id": "M9R1gRVGAOEV"
   },
   "source": [
    "For the random forest hyperparameters tuning, one reference suggested random forest search cv for finding hyperparameters. Since it is also a computing -expensive process on colab, we determine to choose the values manually."
   ]
  },
  {
   "cell_type": "markdown",
   "metadata": {
    "colab_type": "text",
    "id": "AcS-Ig1Vna5D"
   },
   "source": [
    "In this model, a higher number of trees will reduce the variance of the model. n_estimators means the number of trees in the forest, and the default 100 n_estimators does perform well in our model. We vary n_estimators based on one of our references on suggestions. When the number of trees is high, it is also better for the model to learn the data, due to the imbalanced nature of the dataset, we set the weight to be balanced. Since higher max_depth may raise the risk of overfitting the training data, we set it to be 16 as some literature suggested."
   ]
  },
  {
   "cell_type": "code",
   "execution_count": null,
   "metadata": {
    "colab": {
     "base_uri": "https://localhost:8080/",
     "height": 185
    },
    "colab_type": "code",
    "id": "OXxgyOU7PYRw",
    "outputId": "cd4d229d-79ed-44b3-bc8c-331b357f56d1"
   },
   "outputs": [
    {
     "name": "stderr",
     "output_type": "stream",
     "text": [
      "[Parallel(n_jobs=1)]: Using backend SequentialBackend with 1 concurrent workers.\n"
     ]
    },
    {
     "name": "stdout",
     "output_type": "stream",
     "text": [
      "\n",
      "###### Random Forest ######\n",
      "Score : 0.8860\n",
      "cv_score : 0.8910\n",
      "Accuracy: 88.60127157129882\n",
      "Precision: 88.38667614820356\n",
      "Recall: 88.60127157129882\n",
      "F1-score: 88.26270883768855\n"
     ]
    },
    {
     "name": "stderr",
     "output_type": "stream",
     "text": [
      "[Parallel(n_jobs=1)]: Done   5 out of   5 | elapsed:    4.4s finished\n"
     ]
    }
   ],
   "source": [
    "from sklearn.ensemble import RandomForestClassifier\n",
    "#rnd_clf = RandomForestClassifier(n_estimators=100,  random_state=42)\n",
    "#rnd_clf = RandomForestClassifier(n_estimators=200,class_weight='balanced',  random_state=42)\n",
    "#rnd_clf = RandomForestClassifier(n_estimators=64,class_weight='balanced',  random_state=42)\n",
    "#rnd_clf = RandomForestClassifier(n_estimators=100,class_weight='balanced', max_depth=32,  random_state=42)\n",
    "rnd_clf = RandomForestClassifier(n_estimators=100,class_weight='balanced', max_depth=16,  random_state=42)\n",
    "rnd_clf.fit(X_train, y_train)\n",
    "cv_score = cross_val_score(estimator = rnd_clf, X = X_train, y = y_train, cv = 5,verbose = 1)\n",
    "y_pred = rnd_clf.predict(X_test)\n",
    "print('')\n",
    "print('###### Random Forest ######')\n",
    "print('Score : %.4f' % rnd_clf.score(X_test, y_test))\n",
    "print('cv_score : %.4f' % cv_score.mean())\n",
    "print('Accuracy:', 100* accuracy_score(y_test,y_pred))\n",
    "print('Precision:', 100* precision_score(y_test,y_pred,average='weighted')) # for imbalanced data\n",
    "print('Recall:', 100* recall_score(y_test,y_pred,average='weighted'))\n",
    "print('F1-score:', 100* f1_score(y_test,y_pred,average='weighted'))\n",
    "Accuracy.append(100* accuracy_score(y_test,y_pred))\n",
    "Precision.append(100* precision_score(y_test,y_pred,average='weighted'))\n",
    "Recall.append(100* recall_score(y_test,y_pred,average='weighted'))\n",
    "F1_score.append(100* f1_score(y_test,y_pred,average='weighted'))\n",
    "CV_Scores.append(cv_score.mean())\n",
    "Scores.append(rnd_clf.score(X_test, y_test))"
   ]
  },
  {
   "cell_type": "markdown",
   "metadata": {
    "colab_type": "text",
    "id": "dCwjBESzARfM"
   },
   "source": [
    "The result has a quite satisfying value with both high accuracy and high precision."
   ]
  },
  {
   "cell_type": "markdown",
   "metadata": {
    "colab_type": "text",
    "id": "GiwZ2YJ6Pf6G"
   },
   "source": [
    "### XG Boost"
   ]
  },
  {
   "cell_type": "markdown",
   "metadata": {
    "colab_type": "text",
    "id": "xXRdTd7Rnjx0"
   },
   "source": [
    "XG-boost combined the advantages from both random forest and gradient boosting, and it generally gave a prediction error lower than boosting or random forest."
   ]
  },
  {
   "cell_type": "markdown",
   "metadata": {
    "colab_type": "text",
    "id": "DbV8dNK4ngl-"
   },
   "source": [
    "On selecting XG boost hyperparameters, We mainly vary the early_stopping _rounds value. The default learning rate of 0.1 is working well in this case. Since the data set is imbalanced, we need to use balance weight hyperparameter to ensure the model perform properly."
   ]
  },
  {
   "cell_type": "code",
   "execution_count": null,
   "metadata": {
    "colab": {
     "base_uri": "https://localhost:8080/",
     "height": 538
    },
    "colab_type": "code",
    "id": "EhT0H9CdPio6",
    "outputId": "33c10f44-e405-4f57-f6b1-566fce71ee1b"
   },
   "outputs": [
    {
     "name": "stdout",
     "output_type": "stream",
     "text": [
      "[0]\tvalidation_0-error:0.112625\n",
      "Will train until validation_0-error hasn't improved in 15 rounds.\n",
      "[1]\tvalidation_0-error:0.111717\n",
      "[2]\tvalidation_0-error:0.112625\n",
      "[3]\tvalidation_0-error:0.113079\n",
      "[4]\tvalidation_0-error:0.115804\n",
      "[5]\tvalidation_0-error:0.113079\n",
      "[6]\tvalidation_0-error:0.113079\n",
      "[7]\tvalidation_0-error:0.113079\n",
      "[8]\tvalidation_0-error:0.115804\n",
      "[9]\tvalidation_0-error:0.112171\n",
      "[10]\tvalidation_0-error:0.112171\n",
      "[11]\tvalidation_0-error:0.112171\n",
      "[12]\tvalidation_0-error:0.112171\n",
      "[13]\tvalidation_0-error:0.112171\n",
      "[14]\tvalidation_0-error:0.113079\n",
      "[15]\tvalidation_0-error:0.113079\n",
      "[16]\tvalidation_0-error:0.113079\n",
      "Stopping. Best iteration:\n",
      "[1]\tvalidation_0-error:0.111717\n",
      "\n"
     ]
    },
    {
     "name": "stderr",
     "output_type": "stream",
     "text": [
      "[Parallel(n_jobs=1)]: Using backend SequentialBackend with 1 concurrent workers.\n"
     ]
    },
    {
     "name": "stdout",
     "output_type": "stream",
     "text": [
      "\n",
      "###### XG Boost Classifier ######\n",
      "Score : 0.8883\n",
      "cv_score : 0.8986\n",
      "Accuracy: 88.8283378746594\n",
      "Precision: 89.43583827438857\n",
      "Recall: 88.8283378746594\n",
      "F1-score: 88.0466063742032\n"
     ]
    },
    {
     "name": "stderr",
     "output_type": "stream",
     "text": [
      "[Parallel(n_jobs=1)]: Done   5 out of   5 | elapsed:    2.2s finished\n"
     ]
    }
   ],
   "source": [
    "import xgboost as xgb\n",
    "xgb_clf = xgb.XGBClassifier(weighted='balanced',random_state=42)\n",
    "#Vary the stopping value for checking difference of parameters.\n",
    "#xgb_clf.fit(X_train,y_train,early_stopping_rounds=5,eval_set=[(X_test, y_test)])\n",
    "#xgb_clf.fit(X_train,y_train,early_stopping_rounds=10,eval_set=[(X_test, y_test)])\n",
    "#xgb_clf.fit(X_train,y_train,early_stopping_rounds=20,eval_set=[(X_test, y_test)])\n",
    "xgb_clf.fit(X_train, y_train, early_stopping_rounds=15, eval_set=[(X_test, y_test)])\n",
    "y_pred = xgb_clf.predict(X_test)\n",
    "# we set verbose =1 toavoid too many tree building information\n",
    "cv_score = cross_val_score(estimator = xgb_clf, X = X_train, y = y_train, cv = 5,verbose = 1)\n",
    "print('')\n",
    "print('###### XG Boost Classifier ######')\n",
    "print('Score : %.4f' % xgb_clf.score(X_test, y_test))\n",
    "print('cv_score : %.4f' % cv_score.mean())\n",
    "print('Accuracy:', 100* accuracy_score(y_test,y_pred))\n",
    "print('Precision:', 100* precision_score(y_test,y_pred,average='weighted')) # for imbalanced data\n",
    "print('Recall:', 100* recall_score(y_test,y_pred,average='weighted'))\n",
    "print('F1-score:', 100* f1_score(y_test,y_pred,average='weighted'))\n",
    "Accuracy.append(100* accuracy_score(y_test,y_pred))\n",
    "Precision.append(100* precision_score(y_test,y_pred,average='weighted'))\n",
    "Recall.append(100* recall_score(y_test,y_pred,average='weighted'))\n",
    "F1_score.append(100* f1_score(y_test,y_pred,average='weighted'))\n",
    "CV_Scores.append(cv_score.mean())\n",
    "Scores.append(xgb_clf.score(X_test, y_test))"
   ]
  },
  {
   "cell_type": "markdown",
   "metadata": {
    "colab_type": "text",
    "id": "bPI4zHfzJq1p"
   },
   "source": [
    "As we result showed, it actually performs a bit better than random forest on almost every metric with less time spending."
   ]
  },
  {
   "cell_type": "markdown",
   "metadata": {
    "colab_type": "text",
    "id": "zzg_hWIEaey4"
   },
   "source": [
    "### MLP"
   ]
  },
  {
   "cell_type": "markdown",
   "metadata": {
    "colab_type": "text",
    "id": "f8ShRGR_eUOs"
   },
   "source": [
    "The last algorithm we used before the ensemble model is the multilayer perceptron model(MLP). And this one is based on sklearn package and as our representative of the feedforward neural network. Due to the time complexity of the neural network, we manually tested the hyperparameters instead of the grid search. "
   ]
  },
  {
   "cell_type": "code",
   "execution_count": null,
   "metadata": {
    "colab": {
     "base_uri": "https://localhost:8080/",
     "height": 185
    },
    "colab_type": "code",
    "id": "RHXWADxlaGq8",
    "outputId": "ade466f8-2523-4191-d56d-e286e7df4d51"
   },
   "outputs": [
    {
     "name": "stderr",
     "output_type": "stream",
     "text": [
      "[Parallel(n_jobs=1)]: Using backend SequentialBackend with 1 concurrent workers.\n"
     ]
    },
    {
     "name": "stdout",
     "output_type": "stream",
     "text": [
      "\n",
      "###### MLP ######\n",
      "Score : 0.8261\n",
      "cv_score : 0.8702\n",
      "Accuracy: 82.60672116257948\n",
      "Precision: 82.21481908290343\n",
      "Recall: 82.60672116257948\n",
      "F1-score: 82.35922605317337\n"
     ]
    },
    {
     "name": "stderr",
     "output_type": "stream",
     "text": [
      "[Parallel(n_jobs=1)]: Done   5 out of   5 | elapsed:  2.0min finished\n"
     ]
    }
   ],
   "source": [
    "from sklearn.neural_network import MLPClassifier\n",
    "\n",
    "# Classification using Multi-layer perceptron\n",
    "#we also checked other activation function(logisitic, tanh) and they did not give the same performance as relu did. \n",
    "ann = MLPClassifier(hidden_layer_sizes=(150,100,50), max_iter=1000, activation='relu', solver ='adam', random_state=1)\n",
    "ann = ann.fit(X_train, y_train)\n",
    "y_pred = ann.predict(X_test)\n",
    "cv_score = cross_val_score(estimator = ann, X = X_train, y = y_train, cv = 5,verbose = 1)\n",
    "print('')\n",
    "print('###### MLP ######')\n",
    "print('Score : %.4f' % ann.score(X_test, y_test))\n",
    "print('cv_score : %.4f' % cv_score.mean())\n",
    "print('Accuracy:', 100* accuracy_score(y_test,y_pred))\n",
    "print('Precision:', 100* precision_score(y_test,y_pred,average='weighted')) # for imbalanced data\n",
    "print('Recall:', 100* recall_score(y_test,y_pred,average='weighted'))\n",
    "print('F1-score:', 100* f1_score(y_test,y_pred,average='weighted'))\n",
    "Accuracy.append(100* accuracy_score(y_test,y_pred))\n",
    "Precision.append(100* precision_score(y_test,y_pred,average='weighted'))\n",
    "Recall.append(100* recall_score(y_test,y_pred,average='weighted'))\n",
    "F1_score.append(100* f1_score(y_test,y_pred,average='weighted'))\n",
    "CV_Scores.append(cv_score.mean())\n",
    "Scores.append(ann.score(X_test, y_test))"
   ]
  },
  {
   "cell_type": "markdown",
   "metadata": {
    "colab_type": "text",
    "id": "H99Ja1rZaG92"
   },
   "source": [
    "## Ensemble Model "
   ]
  },
  {
   "cell_type": "markdown",
   "metadata": {
    "colab_type": "text",
    "id": "rvpIgPk6bWYY"
   },
   "source": [
    "We place our six models in an array called ‘estimators’. Then, create the voting classifier. \n",
    "\n",
    "It takes two inputs. The first is our estimator array of our six models. A voting ensemble involves summing the predictions made by classification models or averaging the predictions made by regression models. It is also the cause to let us change parameters on the SVM model. \n",
    "\n",
    "Initially, we set the voting parameter to hard, which tells our classifier to make predictions by majority vote. After we did some research, we realized that ‘soft’ voting often achieves higher performance than hard voting because it gives more weight to highly confident votes. The major difference is that 'soft' voting ensemble involves summing the predicted probability for the label. In simple words, hard is predicting major labels, soft is predicting the largest probability. \n",
    "\n",
    "After we applied soft voting for our model, the model does perform slightly better.\n",
    "\n",
    "Now we can fit our ensemble model to our training data and store it on our testing data."
   ]
  },
  {
   "cell_type": "code",
   "execution_count": null,
   "metadata": {
    "colab": {
     "base_uri": "https://localhost:8080/",
     "height": 437
    },
    "colab_type": "code",
    "id": "LmMwxg45aNx7",
    "outputId": "3d8fb476-07ab-40d3-d2cf-c4c2d482c79a"
   },
   "outputs": [
    {
     "data": {
      "text/plain": [
       "VotingClassifier(estimators=[('Logistic Regression',\n",
       "                              LogisticRegression(C=1.0, class_weight=None,\n",
       "                                                 dual=False, fit_intercept=True,\n",
       "                                                 intercept_scaling=1,\n",
       "                                                 l1_ratio=None, max_iter=1000,\n",
       "                                                 multi_class='auto',\n",
       "                                                 n_jobs=None, penalty='l2',\n",
       "                                                 random_state=None,\n",
       "                                                 solver='saga', tol=0.0001,\n",
       "                                                 verbose=0, warm_start=False)),\n",
       "                             ('SVM',\n",
       "                              SVC(C=1.0, break_ties=False, cache_size=200,\n",
       "                                  class_weight=...\n",
       "                                            hidden_layer_sizes=(150, 100, 50),\n",
       "                                            learning_rate='constant',\n",
       "                                            learning_rate_init=0.001,\n",
       "                                            max_fun=15000, max_iter=1000,\n",
       "                                            momentum=0.9, n_iter_no_change=10,\n",
       "                                            nesterovs_momentum=True,\n",
       "                                            power_t=0.5, random_state=1,\n",
       "                                            shuffle=True, solver='adam',\n",
       "                                            tol=0.0001, validation_fraction=0.1,\n",
       "                                            verbose=False, warm_start=False))],\n",
       "                 flatten_transform=True, n_jobs=None, voting='soft',\n",
       "                 weights=None)"
      ]
     },
     "execution_count": 53,
     "metadata": {
      "tags": []
     },
     "output_type": "execute_result"
    }
   ],
   "source": [
    "from sklearn.ensemble import VotingClassifier\n",
    "#create a dictionary of our models\n",
    "estimators=[('Logistic Regression', model), ('SVM', svm), ('KNN', knn), ('Random Forest', rnd_clf), ('XG Boost', xgb_clf), ('MLPClassifier', ann)]\n",
    "#create our voting classifier, inputting our models\n",
    "ensemble = VotingClassifier(estimators, voting='soft')\n",
    "#fit model to training data\n",
    "ensemble.fit(X_train, y_train)"
   ]
  },
  {
   "cell_type": "code",
   "execution_count": null,
   "metadata": {
    "colab": {
     "base_uri": "https://localhost:8080/",
     "height": 34
    },
    "colab_type": "code",
    "id": "MWKRl8OcdVUR",
    "outputId": "655f5bbd-4051-462d-c4f3-52bdddd3c790"
   },
   "outputs": [
    {
     "data": {
      "text/plain": [
       "0.8742052679382379"
      ]
     },
     "execution_count": 45,
     "metadata": {
      "tags": []
     },
     "output_type": "execute_result"
    }
   ],
   "source": [
    "#test our model on the test data\n",
    "ensemble.score(X_test, y_test)"
   ]
  },
  {
   "cell_type": "code",
   "execution_count": null,
   "metadata": {
    "colab": {
     "base_uri": "https://localhost:8080/",
     "height": 185
    },
    "colab_type": "code",
    "id": "DtPEWKmHdFjf",
    "outputId": "cba76073-7ee1-45ed-ec61-e7885ddf3815"
   },
   "outputs": [
    {
     "name": "stderr",
     "output_type": "stream",
     "text": [
      "[Parallel(n_jobs=1)]: Using backend SequentialBackend with 1 concurrent workers.\n",
      "[Parallel(n_jobs=1)]: Done   5 out of   5 | elapsed:  2.8min finished\n"
     ]
    },
    {
     "name": "stdout",
     "output_type": "stream",
     "text": [
      "\n",
      "###### Voting ######\n",
      "Score : 0.8742\n",
      "cv_score : 0.8876\n",
      "Accuracy: 87.4205267938238\n",
      "Precision: 87.69557609799044\n",
      "Recall: 87.4205267938238\n",
      "F1-score: 86.568851964728\n"
     ]
    }
   ],
   "source": [
    "y_pred = ensemble.predict(X_test)\n",
    "cv_score = cross_val_score(estimator = ensemble, X = X_train, y = y_train, cv = 5,verbose = 1)\n",
    "print('')\n",
    "print('###### Voting ######')\n",
    "print('Score : %.4f' % ensemble.score(X_test, y_test))\n",
    "print('cv_score : %.4f' % cv_score.mean())\n",
    "print('Accuracy:', 100* accuracy_score(y_test,y_pred))\n",
    "print('Precision:', 100* precision_score(y_test,y_pred,average='weighted')) # for imbalanced data\n",
    "print('Recall:', 100* recall_score(y_test,y_pred,average='weighted'))\n",
    "print('F1-score:', 100* f1_score(y_test,y_pred,average='weighted'))\n",
    "Accuracy.append(100* accuracy_score(y_test,y_pred))\n",
    "Precision.append(100* precision_score(y_test,y_pred,average='weighted'))\n",
    "Recall.append(100* recall_score(y_test,y_pred,average='weighted'))\n",
    "F1_score.append(100* f1_score(y_test,y_pred,average='weighted'))\n",
    "CV_Scores.append(cv_score.mean())\n",
    "Scores.append(ensemble.score(X_test, y_test))"
   ]
  },
  {
   "cell_type": "markdown",
   "metadata": {
    "colab_type": "text",
    "id": "LORaYSdTCy6-"
   },
   "source": [
    "Based on this result, our ensemble model performs relatively good of all models."
   ]
  },
  {
   "cell_type": "markdown",
   "metadata": {
    "colab_type": "text",
    "id": "sXws_Zn0Caye"
   },
   "source": [
    "## Model Selection"
   ]
  },
  {
   "cell_type": "code",
   "execution_count": null,
   "metadata": {
    "colab": {
     "base_uri": "https://localhost:8080/",
     "height": 254
    },
    "colab_type": "code",
    "id": "P-Ag4JpNjtjS",
    "outputId": "d726c55f-1a86-4724-a152-4aea311ae216"
   },
   "outputs": [
    {
     "data": {
      "text/html": [
       "<div>\n",
       "<style scoped>\n",
       "    .dataframe tbody tr th:only-of-type {\n",
       "        vertical-align: middle;\n",
       "    }\n",
       "\n",
       "    .dataframe tbody tr th {\n",
       "        vertical-align: top;\n",
       "    }\n",
       "\n",
       "    .dataframe thead th {\n",
       "        text-align: right;\n",
       "    }\n",
       "</style>\n",
       "<table border=\"1\" class=\"dataframe\">\n",
       "  <thead>\n",
       "    <tr style=\"text-align: right;\">\n",
       "      <th></th>\n",
       "      <th>Algorithms</th>\n",
       "      <th>Scores</th>\n",
       "      <th>Cross_Val</th>\n",
       "      <th>Accuracy(%)</th>\n",
       "      <th>Precision(%)</th>\n",
       "      <th>Recall(%)</th>\n",
       "      <th>F1-score(%)</th>\n",
       "    </tr>\n",
       "  </thead>\n",
       "  <tbody>\n",
       "    <tr>\n",
       "      <th>4</th>\n",
       "      <td>XG Boost Classifier</td>\n",
       "      <td>0.888283</td>\n",
       "      <td>0.898591</td>\n",
       "      <td>88.828338</td>\n",
       "      <td>89.435838</td>\n",
       "      <td>88.828338</td>\n",
       "      <td>88.046606</td>\n",
       "    </tr>\n",
       "    <tr>\n",
       "      <th>3</th>\n",
       "      <td>Random Forest</td>\n",
       "      <td>0.886013</td>\n",
       "      <td>0.890983</td>\n",
       "      <td>88.601272</td>\n",
       "      <td>88.386676</td>\n",
       "      <td>88.601272</td>\n",
       "      <td>88.262709</td>\n",
       "    </tr>\n",
       "    <tr>\n",
       "      <th>6</th>\n",
       "      <td>VotingClassifier</td>\n",
       "      <td>0.874205</td>\n",
       "      <td>0.887574</td>\n",
       "      <td>87.420527</td>\n",
       "      <td>87.695576</td>\n",
       "      <td>87.420527</td>\n",
       "      <td>86.568852</td>\n",
       "    </tr>\n",
       "    <tr>\n",
       "      <th>2</th>\n",
       "      <td>KNN</td>\n",
       "      <td>0.829688</td>\n",
       "      <td>0.841250</td>\n",
       "      <td>82.968750</td>\n",
       "      <td>83.116155</td>\n",
       "      <td>82.968750</td>\n",
       "      <td>82.949329</td>\n",
       "    </tr>\n",
       "    <tr>\n",
       "      <th>5</th>\n",
       "      <td>MLPClassifier</td>\n",
       "      <td>0.826067</td>\n",
       "      <td>0.870199</td>\n",
       "      <td>82.606721</td>\n",
       "      <td>82.214819</td>\n",
       "      <td>82.606721</td>\n",
       "      <td>82.359226</td>\n",
       "    </tr>\n",
       "    <tr>\n",
       "      <th>1</th>\n",
       "      <td>SVM</td>\n",
       "      <td>0.778837</td>\n",
       "      <td>0.777991</td>\n",
       "      <td>77.883742</td>\n",
       "      <td>76.374567</td>\n",
       "      <td>77.883742</td>\n",
       "      <td>75.542525</td>\n",
       "    </tr>\n",
       "    <tr>\n",
       "      <th>0</th>\n",
       "      <td>logistic regression</td>\n",
       "      <td>0.760218</td>\n",
       "      <td>0.762320</td>\n",
       "      <td>76.021798</td>\n",
       "      <td>73.866102</td>\n",
       "      <td>76.021798</td>\n",
       "      <td>73.080122</td>\n",
       "    </tr>\n",
       "  </tbody>\n",
       "</table>\n",
       "</div>"
      ],
      "text/plain": [
       "            Algorithms    Scores  ...  Recall(%)  F1-score(%)\n",
       "4  XG Boost Classifier  0.888283  ...  88.828338    88.046606\n",
       "3        Random Forest  0.886013  ...  88.601272    88.262709\n",
       "6     VotingClassifier  0.874205  ...  87.420527    86.568852\n",
       "2                  KNN  0.829688  ...  82.968750    82.949329\n",
       "5        MLPClassifier  0.826067  ...  82.606721    82.359226\n",
       "1                  SVM  0.778837  ...  77.883742    75.542525\n",
       "0  logistic regression  0.760218  ...  76.021798    73.080122\n",
       "\n",
       "[7 rows x 7 columns]"
      ]
     },
     "execution_count": 47,
     "metadata": {
      "tags": []
     },
     "output_type": "execute_result"
    }
   ],
   "source": [
    "compare = pd.DataFrame({'Algorithms' : models , 'Scores' : Scores, 'Cross_Val' : CV_Scores, 'Accuracy(%)':Accuracy, 'Precision(%)':Precision, 'Recall(%)':Recall, 'F1-score(%)':F1_score})\n",
    "compare.sort_values(by='Scores' ,ascending=False)"
   ]
  },
  {
   "cell_type": "markdown",
   "metadata": {
    "colab_type": "text",
    "id": "MLiw9YTmbkIx"
   },
   "source": [
    "When we compared with all the models, it is noticeable that almost random forest and XG boost gave the highest score overall. It is quite reasonable since these two methods are quite similar. However, the random forest takes longer time on processing, while XG boost seemed to provide the best performance of all except F1 score. As most references suggest, the boosting technique is quite robust in dealing with the overfitting. However, our ensemble model is only a bit lower than these two but with a 2% difference. It is reasonable since the ensemble model is to create an average of all based models. Although the ensemble model does not score highest, we still select it as our chosen model. We think the essence of the ensemble model is to prevent learning too much of training data, on the other hand, overfitting. "
   ]
  },
  {
   "cell_type": "code",
   "execution_count": null,
   "metadata": {
    "colab": {
     "base_uri": "https://localhost:8080/",
     "height": 34
    },
    "colab_type": "code",
    "id": "zyjERzumMJoe",
    "outputId": "cd3dbf64-41a7-4193-9b6c-a554eebaf564"
   },
   "outputs": [
    {
     "data": {
      "text/plain": [
       "0"
      ]
     },
     "execution_count": 55,
     "metadata": {
      "tags": []
     },
     "output_type": "execute_result"
    }
   ],
   "source": [
    "#print our predict result\n",
    "predictions=ensemble.predict(X_test)\n",
    "np.argmax(predictions[0])"
   ]
  },
  {
   "cell_type": "markdown",
   "metadata": {
    "colab_type": "text",
    "id": "NVqa_sUuMqNx"
   },
   "source": [
    "Based on the ensemble model, we can predict the highest probability for customers who are not buying this new product. "
   ]
  },
  {
   "cell_type": "markdown",
   "metadata": {
    "colab_type": "text",
    "id": "lc_WMpwZCn43"
   },
   "source": [
    "## Conclusions\n",
    "\n",
    "Finally, we get the conclusion that our ensemble model gave a satisfying result on the accuracy of 87.42% and precision of 87.69 %. Although it does not give the highest score of all, this method helps to reduce generalization error. In addition, the algorithm answers our initial question of the research-- how to identify target customers. \n",
    "\n",
    "Since we did balance our data set, this close to 87% value significantly beat the 50% of random guess. Also, our ensemble model enable us to predict most customers who did not buy our products."
   ]
  },
  {
   "cell_type": "markdown",
   "metadata": {
    "colab_type": "text",
    "id": "Lmx4y30-MngJ"
   },
   "source": [
    "Based on this research question, we believe this project can benefit a lot from the insurance company. Since their common goal is to convert people who did not buy their products to their customers. This project can be a support for their in-depth marketing strategy. "
   ]
  },
  {
   "cell_type": "markdown",
   "metadata": {
    "colab_type": "text",
    "id": "TFcVdOwOT_9L"
   },
   "source": [
    "## Reference"
   ]
  },
  {
   "cell_type": "markdown",
   "metadata": {
    "colab_type": "text",
    "id": "yDeAk8GaUB6O"
   },
   "source": [
    "1. An examlpe of this dataset used: https://www.kaggle.com/rluyck/selling-a-new-insurance-product#Collecting-raw-data-and-importing-libraries\n",
    "2. About VotingClassifier: https://medium.com/analytics-vidhya/voting-classifier-in-machine-learning-9534504eba39\n",
    "3. About age difference : https://en.wikipedia.org/wiki/Age_disparity_in_sexual_relationships\n",
    "\n",
    "4. random forest tuning https://medium.com/@taplapinger/tuning-a-random-forest-classifier-1b252d1dde92\n",
    "\n",
    "5. SVM tuning https://towardsdatascience.com/support-vector-machine-simply-explained-fee28eba5496\n",
    "\n",
    "6. logistic regression https://medium.com/@venali/conventional-guide-to-supervised-learning-with-scikit-learn-logistic-regression-generalized-e9783c414588\n",
    "\n",
    "7. ensemble model https://towardsdatascience.com/simple-guide-for-ensemble-learning-methods-d87cc68705a2\n",
    "\n",
    "8. insurance market. https://www.oecd.org/daf/fin/insurance/Insurance-Markets-in-Figures-2019.pdf\n",
    "\n",
    "9. optimal number of trees in RF https://stats.stackexchange.com/questions/36165/does-the-optimal-number-of-trees-in-a-random-forest-depend-on-the-number-of-pred/36183"
   ]
  }
 ],
 "metadata": {
  "colab": {
   "collapsed_sections": [],
   "name": "G_L_ZH_Z_ZJ_Z_Final Project.ipynb",
   "provenance": [],
   "toc_visible": true
  },
  "kernelspec": {
   "display_name": "Python 3",
   "language": "python",
   "name": "python3"
  },
  "language_info": {
   "codemirror_mode": {
    "name": "ipython",
    "version": 3
   },
   "file_extension": ".py",
   "mimetype": "text/x-python",
   "name": "python",
   "nbconvert_exporter": "python",
   "pygments_lexer": "ipython3",
   "version": "3.7.3"
  }
 },
 "nbformat": 4,
 "nbformat_minor": 1
}
