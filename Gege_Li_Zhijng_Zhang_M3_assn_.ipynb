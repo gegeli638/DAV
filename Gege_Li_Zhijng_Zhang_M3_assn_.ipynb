{
  "nbformat": 4,
  "nbformat_minor": 0,
  "metadata": {
    "colab": {
      "name": "Gege_Li_Zhijng_Zhang_M3-assn_.ipynb",
      "provenance": [],
      "toc_visible": true,
      "include_colab_link": true
    },
    "kernelspec": {
      "name": "python3",
      "display_name": "Python 3"
    }
  },
  "cells": [
    {
      "cell_type": "markdown",
      "metadata": {
        "id": "view-in-github",
        "colab_type": "text"
      },
      "source": [
        "<a href=\"https://colab.research.google.com/github/gegeli638/DAV/blob/master/Gege_Li_Zhijng_Zhang_M3_assn_.ipynb\" target=\"_parent\"><img src=\"https://colab.research.google.com/assets/colab-badge.svg\" alt=\"Open In Colab\"/></a>"
      ]
    },
    {
      "cell_type": "markdown",
      "metadata": {
        "id": "yYsZBemDFSd7",
        "colab_type": "text"
      },
      "source": [
        "### Group Member: Zhijing Zhang, Gege Li\n",
        "\n",
        "# Module 3 Assignment - Cleaning “Messy” Data"
      ]
    },
    {
      "cell_type": "code",
      "metadata": {
        "id": "lfbf75TwFLQj",
        "colab_type": "code",
        "colab": {}
      },
      "source": [
        ""
      ],
      "execution_count": 0,
      "outputs": []
    },
    {
      "cell_type": "code",
      "metadata": {
        "id": "x12InQB6FtZb",
        "colab_type": "code",
        "colab": {}
      },
      "source": [
        ""
      ],
      "execution_count": 0,
      "outputs": []
    }
  ]
}