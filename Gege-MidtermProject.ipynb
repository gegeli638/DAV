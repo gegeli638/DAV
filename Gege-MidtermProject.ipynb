{
 "cells": [
  {
   "cell_type": "markdown",
   "metadata": {},
   "source": [
    "# Gege Li\n",
    "# Midterm Statistical Analysis Project\n",
    "\n",
    "\n",
    "### ※ Explanation of data and its source\n",
    "##### This Salaries dataset is about professors salary. It has 397 observations and 6 variables. \n",
    "- rank: a factor with levels AssocProf, AsstProf and Prof.\n",
    "- discipline: a factor with levels A (“theoretical” departments) or B (“applied” departments).\n",
    "- yrs.since.phd: years since PhD.\n",
    "- yrs.service: years of service.\n",
    "- sex: a factor with levels Female and Male\n",
    "- salary: nine-month salary, in dollars.\n",
    "\n",
    "##### The 2008-09 nine-month academic salary for Assistant Professors, Associate Professors and Professors in a college in the U.S. The data were collected as part of the on-going effort of the college's administration to monitor salary differences between male and female faculty members.\n",
    "- Here is the link to introduce this dataset. https://vincentarelbundock.github.io/Rdatasets/doc/carData/Salaries.html\n",
    "\n",
    "\n",
    "### ※ Questions to be researched\n",
    "\n",
    "##### I would like to provide three questions to be researched and accordding to the result to expand the questions.  In each question I will show the conclusion.\n",
    "- 1.What is the salary distribution in this dataset?\n",
    "- 2.Is there different in salaries between gender? Expand: Which sex is higher, male or female?\n",
    "- 3.Which variables are more associated with salaries, years since PhD or years of service? Expand: Among all the variables, which one are most strongly associated with salary?\n",
    "\n"
   ]
  },
  {
   "cell_type": "code",
   "execution_count": 1,
   "metadata": {},
   "outputs": [
    {
     "data": {
      "text/html": [
       "<div>\n",
       "<style scoped>\n",
       "    .dataframe tbody tr th:only-of-type {\n",
       "        vertical-align: middle;\n",
       "    }\n",
       "\n",
       "    .dataframe tbody tr th {\n",
       "        vertical-align: top;\n",
       "    }\n",
       "\n",
       "    .dataframe thead th {\n",
       "        text-align: right;\n",
       "    }\n",
       "</style>\n",
       "<table border=\"1\" class=\"dataframe\">\n",
       "  <thead>\n",
       "    <tr style=\"text-align: right;\">\n",
       "      <th></th>\n",
       "      <th>NO.</th>\n",
       "      <th>rank</th>\n",
       "      <th>discipline</th>\n",
       "      <th>yrs_since_phd</th>\n",
       "      <th>yrs_service</th>\n",
       "      <th>sex</th>\n",
       "      <th>salary</th>\n",
       "    </tr>\n",
       "  </thead>\n",
       "  <tbody>\n",
       "    <tr>\n",
       "      <th>0</th>\n",
       "      <td>1</td>\n",
       "      <td>Prof</td>\n",
       "      <td>B</td>\n",
       "      <td>19</td>\n",
       "      <td>18</td>\n",
       "      <td>Male</td>\n",
       "      <td>139750</td>\n",
       "    </tr>\n",
       "    <tr>\n",
       "      <th>1</th>\n",
       "      <td>2</td>\n",
       "      <td>Prof</td>\n",
       "      <td>B</td>\n",
       "      <td>20</td>\n",
       "      <td>16</td>\n",
       "      <td>Male</td>\n",
       "      <td>173200</td>\n",
       "    </tr>\n",
       "    <tr>\n",
       "      <th>2</th>\n",
       "      <td>3</td>\n",
       "      <td>AsstProf</td>\n",
       "      <td>B</td>\n",
       "      <td>4</td>\n",
       "      <td>3</td>\n",
       "      <td>Male</td>\n",
       "      <td>79750</td>\n",
       "    </tr>\n",
       "    <tr>\n",
       "      <th>3</th>\n",
       "      <td>4</td>\n",
       "      <td>Prof</td>\n",
       "      <td>B</td>\n",
       "      <td>45</td>\n",
       "      <td>39</td>\n",
       "      <td>Male</td>\n",
       "      <td>115000</td>\n",
       "    </tr>\n",
       "    <tr>\n",
       "      <th>4</th>\n",
       "      <td>5</td>\n",
       "      <td>Prof</td>\n",
       "      <td>B</td>\n",
       "      <td>40</td>\n",
       "      <td>41</td>\n",
       "      <td>Male</td>\n",
       "      <td>141500</td>\n",
       "    </tr>\n",
       "  </tbody>\n",
       "</table>\n",
       "</div>"
      ],
      "text/plain": [
       "   NO.      rank discipline  yrs_since_phd  yrs_service   sex  salary\n",
       "0    1      Prof          B             19           18  Male  139750\n",
       "1    2      Prof          B             20           16  Male  173200\n",
       "2    3  AsstProf          B              4            3  Male   79750\n",
       "3    4      Prof          B             45           39  Male  115000\n",
       "4    5      Prof          B             40           41  Male  141500"
      ]
     },
     "execution_count": 1,
     "metadata": {},
     "output_type": "execute_result"
    }
   ],
   "source": [
    "#first import the data and rename the columns\n",
    "import pandas as pd\n",
    "\n",
    "data = pd.read_csv('https://raw.githubusercontent.com/gegeli638/stats_tutorials/master/Salaries.csv')\n",
    "\n",
    "#rename the column\n",
    "data.columns =['NO.', 'rank', 'discipline', 'yrs_since_phd', 'yrs_service', 'sex', 'salary'] \n",
    "data.head()"
   ]
  },
  {
   "cell_type": "markdown",
   "metadata": {},
   "source": [
    "### 1.What is the salary distribution in this dataset?"
   ]
  },
  {
   "cell_type": "code",
   "execution_count": 2,
   "metadata": {},
   "outputs": [
    {
     "data": {
      "text/plain": [
       "count       397.000000\n",
       "mean     113706.458438\n",
       "std       30289.038695\n",
       "min       57800.000000\n",
       "25%       91000.000000\n",
       "50%      107300.000000\n",
       "75%      134185.000000\n",
       "max      231545.000000\n",
       "Name: salary, dtype: float64"
      ]
     },
     "execution_count": 2,
     "metadata": {},
     "output_type": "execute_result"
    }
   ],
   "source": [
    "#show the details about the salary\n",
    "data['salary'].describe()"
   ]
  },
  {
   "cell_type": "code",
   "execution_count": 17,
   "metadata": {},
   "outputs": [
    {
     "data": {
      "image/png": "[encoded data removed]",
      "text/plain": [
       "<Figure size 720x360 with 1 Axes>"
      ]
     },
     "metadata": {},
     "output_type": "display_data"
    }
   ],
   "source": [
    "import matplotlib.pyplot as plt\n",
    "import seaborn as sns\n",
    "#show the distribution about the salary\n",
    "plt.style.use('ggplot')\n",
    "plt.rcParams['figure.figsize'] = (10,5)\n",
    "plt.title('Salary Distribution')\n",
    "sns.distplot(data['salary'],  bins = 10, color = 'blue')\n",
    "plt.show()\n",
    "#fit = norm, kde = False,"
   ]
  },
  {
   "cell_type": "code",
   "execution_count": 4,
   "metadata": {},
   "outputs": [
    {
     "data": {
      "image/png": "[encoded data removed]",
      "text/plain": [
       "<Figure size 720x216 with 1 Axes>"
      ]
     },
     "metadata": {
      "needs_background": "light"
     },
     "output_type": "display_data"
    }
   ],
   "source": [
    "#show the boxplot about the salary\n",
    "plt.figure(figsize=(10,3))\n",
    "plt.title('Salary Distribution')\n",
    "sns.boxplot(x=data['salary'],data=data)\n",
    "plt.show()"
   ]
  },
  {
   "cell_type": "markdown",
   "metadata": {},
   "source": [
    "- From the plots above we can see that the distribution of salary is a little right-skewed.\n",
    "- The mean is 113706.458438. The median is 107300.000000. The SD is 30289.038695.\n",
    "\n",
    "### 2.Is there different in salaries between gender?\n",
    "HO : There is no difference in salaries between gender. Male salary ＝ Female salary\n",
    "\n",
    "HA : There has difference in salaries between gender. Male salary ≠ Female salary"
   ]
  },
  {
   "cell_type": "code",
   "execution_count": 5,
   "metadata": {},
   "outputs": [
    {
     "data": {
      "text/plain": [
       "sex\n",
       "Female     39\n",
       "Male      358\n",
       "Name: sex, dtype: int64"
      ]
     },
     "execution_count": 5,
     "metadata": {},
     "output_type": "execute_result"
    }
   ],
   "source": [
    "#show the number of male and female\n",
    "data.groupby(['sex'])['sex'].count()"
   ]
  },
  {
   "cell_type": "code",
   "execution_count": 22,
   "metadata": {},
   "outputs": [
    {
     "data": {
      "text/plain": [
       "<matplotlib.axes._subplots.AxesSubplot at 0x21cfd0b1c18>"
      ]
     },
     "execution_count": 22,
     "metadata": {},
     "output_type": "execute_result"
    },
    {
     "data": {
      "image/png": "[encoded data removed]",
      "text/plain": [
       "<Figure size 576x360 with 1 Axes>"
      ]
     },
     "metadata": {},
     "output_type": "display_data"
    }
   ],
   "source": [
    "#show the detail about salary in sex\n",
    "plt.figure(figsize=(8,5))\n",
    "sns.barplot(x='sex',y='salary',data=data)"
   ]
  },
  {
   "cell_type": "code",
   "execution_count": 6,
   "metadata": {},
   "outputs": [
    {
     "name": "stdout",
     "output_type": "stream",
     "text": [
      "n_male = 358.0\n",
      "mean_male = 115090.41899441341\n",
      "sd_male = 30394.387941408255\n",
      "\n",
      "n_female = 39.0\n",
      "mean_female = 101002.41025641025\n",
      "sd_female = 25617.24712858652\n"
     ]
    }
   ],
   "source": [
    "import statsmodels.stats.weightstats as st\n",
    "\n",
    "salaryANDmale = data[data['sex'] == 'Male']['salary']\n",
    "salaryANDfemale = data[data['sex'] == 'Female']['salary']\n",
    "\n",
    "dsw1 = st.DescrStatsW(salaryANDmale)\n",
    "dsw2 = st.DescrStatsW(salaryANDfemale)\n",
    "cm = st.CompareMeans(dsw1, dsw2)\n",
    "\n",
    "# calculate number of observations, mean and standard deviation for each group\n",
    "n_male = dsw1.nobs\n",
    "n_female = dsw2.nobs\n",
    "mean_male = dsw1.mean\n",
    "mean_female = dsw2.mean\n",
    "sd_male = dsw1.std\n",
    "sd_female = dsw2.std\n",
    "print(f'n_male = {n_male}')\n",
    "print(f'mean_male = {mean_male}')\n",
    "print(f'sd_male = {sd_male}')\n",
    "print()\n",
    "print(f'n_female = {n_female}')\n",
    "print(f'mean_female = {mean_female}')\n",
    "print(f'sd_female = {sd_female}')"
   ]
  },
  {
   "cell_type": "code",
   "execution_count": 7,
   "metadata": {},
   "outputs": [
    {
     "name": "stdout",
     "output_type": "stream",
     "text": [
      "Standard error = 4456.151886585023\n",
      "Test statistic: Z = 3.1614740916740884\n",
      "p-value = 0.0015697278187671224\n",
      "reject null hypothesis\n"
     ]
    }
   ],
   "source": [
    "# conduct hypothesis test\n",
    "ht = cm.ztest_ind(alternative = 'two-sided', usevar = 'unequal', value = 0)\n",
    "\n",
    "# calculate and print the standard error, the Z-score, and p-value for the hypothesis test\n",
    "se = cm.std_meandiff_separatevar\n",
    "testZ = ht[0]\n",
    "p_value = ht[1]\n",
    "print(f'Standard error = {se}')\n",
    "print(f'Test statistic: Z = {testZ}')\n",
    "print(f'p-value = {p_value}')\n",
    "\n",
    "# reject or accept null hypothesis\n",
    "if(p_value) < 0.05:\n",
    "    print('reject null hypothesis')\n",
    "else:\n",
    "    print('accept null hypothesis')"
   ]
  },
  {
   "cell_type": "markdown",
   "metadata": {},
   "source": [
    "- From the result we can get the conclusion that there is different in salaries between gender.\n",
    "\n",
    "But we don't know whether male's salaries are higher or female's salaries are higher. Let's do one-sided hypothesis test this time.\n",
    "\n",
    "HO : Male salary ＝ Female salary\n",
    "\n",
    "HA : Male salary ＞ Female salary"
   ]
  },
  {
   "cell_type": "code",
   "execution_count": 8,
   "metadata": {},
   "outputs": [
    {
     "name": "stdout",
     "output_type": "stream",
     "text": [
      "Standard error = 4456.151886585023\n",
      "Test statistic: Z = 3.1614740916740884\n",
      "p-value = 0.0007848639093835612\n",
      "reject null hypothesis\n"
     ]
    }
   ],
   "source": [
    "# conduct hypothesis test\n",
    "ht = cm.ztest_ind(alternative = 'larger', usevar = 'unequal', value = 0)\n",
    "\n",
    "# calculate and print the standard error, the Z-score, and p-value for the hypothesis test\n",
    "se = cm.std_meandiff_separatevar\n",
    "testZ = ht[0]\n",
    "p_value = ht[1]\n",
    "print(f'Standard error = {se}')\n",
    "print(f'Test statistic: Z = {testZ}')\n",
    "print(f'p-value = {p_value}')\n",
    "\n",
    "# reject or accept null hypothesis\n",
    "if(p_value) < 0.05:\n",
    "    print('reject null hypothesis')\n",
    "else:\n",
    "    print('accept null hypothesis')"
   ]
  },
  {
   "cell_type": "markdown",
   "metadata": {},
   "source": [
    "- From the result we can see that male's salaries are significant higher than female's salaries.\n",
    "\n",
    "### 3.Which variables are more associated with salaries, years since PhD or years of service?"
   ]
  },
  {
   "cell_type": "code",
   "execution_count": 9,
   "metadata": {},
   "outputs": [
    {
     "name": "stdout",
     "output_type": "stream",
     "text": [
      "                            OLS Regression Results                            \n",
      "==============================================================================\n",
      "Dep. Variable:                 salary   R-squared:                       0.112\n",
      "Model:                            OLS   Adj. R-squared:                  0.110\n",
      "Method:                 Least Squares   F-statistic:                     49.85\n",
      "Date:                Sun, 29 Mar 2020   Prob (F-statistic):           7.53e-12\n",
      "Time:                        22:54:50   Log-Likelihood:                -4635.7\n",
      "No. Observations:                 397   AIC:                             9275.\n",
      "Df Residuals:                     395   BIC:                             9283.\n",
      "Df Model:                           1                                         \n",
      "Covariance Type:            nonrobust                                         \n",
      "===============================================================================\n",
      "                  coef    std err          t      P>|t|      [0.025      0.975]\n",
      "-------------------------------------------------------------------------------\n",
      "Intercept    9.997e+04   2416.605     41.370      0.000    9.52e+04    1.05e+05\n",
      "yrs_service   779.5691    110.417      7.060      0.000     562.491     996.647\n",
      "==============================================================================\n",
      "Omnibus:                       25.187   Durbin-Watson:                   1.843\n",
      "Prob(Omnibus):                  0.000   Jarque-Bera (JB):               28.656\n",
      "Skew:                           0.593   Prob(JB):                     5.99e-07\n",
      "Kurtosis:                       3.570   Cond. No.                         36.9\n",
      "==============================================================================\n",
      "\n",
      "Warnings:\n",
      "[1] Standard Errors assume that the covariance matrix of the errors is correctly specified.\n",
      "salary ~ yrs_service R2 =  0.11205399790940596\n",
      "correlation coefficient =  0.3347446756998621\n"
     ]
    }
   ],
   "source": [
    "import statsmodels.api as sm\n",
    "\n",
    "\n",
    "#yrs_service\n",
    "formula_string1 = \"salary ~ yrs_service\"\n",
    "\n",
    "model = sm.formula.ols(formula = formula_string1, data = data)\n",
    "model_fitted = model.fit()\n",
    "\n",
    "print(model_fitted.summary())\n",
    "\n",
    "#yrs_service\n",
    "formula_string1 = \"salary ~ yrs_service\"\n",
    "\n",
    "model = sm.formula.ols(formula = formula_string1, data = data)\n",
    "yrs_service_model_fitted = model.fit()\n",
    "\n",
    "yrs_service_r2 = yrs_service_model_fitted.rsquared\n",
    "\n",
    "print('salary ~ yrs_service R2 = ', yrs_service_r2)\n",
    "print('correlation coefficient = ', data['salary'].corr(data['yrs_service']))"
   ]
  },
  {
   "cell_type": "code",
   "execution_count": 10,
   "metadata": {},
   "outputs": [
    {
     "name": "stdout",
     "output_type": "stream",
     "text": [
      "                            OLS Regression Results                            \n",
      "==============================================================================\n",
      "Dep. Variable:                 salary   R-squared:                       0.176\n",
      "Model:                            OLS   Adj. R-squared:                  0.174\n",
      "Method:                 Least Squares   F-statistic:                     84.23\n",
      "Date:                Sun, 29 Mar 2020   Prob (F-statistic):           2.50e-18\n",
      "Time:                        22:54:51   Log-Likelihood:                -4620.9\n",
      "No. Observations:                 397   AIC:                             9246.\n",
      "Df Residuals:                     395   BIC:                             9254.\n",
      "Df Model:                           1                                         \n",
      "Covariance Type:            nonrobust                                         \n",
      "=================================================================================\n",
      "                    coef    std err          t      P>|t|      [0.025      0.975]\n",
      "---------------------------------------------------------------------------------\n",
      "Intercept      9.172e+04   2765.792     33.162      0.000    8.63e+04    9.72e+04\n",
      "yrs_since_phd   985.3421    107.365      9.177      0.000     774.264    1196.421\n",
      "==============================================================================\n",
      "Omnibus:                       14.453   Durbin-Watson:                   1.841\n",
      "Prob(Omnibus):                  0.001   Jarque-Bera (JB):               15.806\n",
      "Skew:                           0.403   Prob(JB):                     0.000370\n",
      "Kurtosis:                       3.552   Cond. No.                         51.6\n",
      "==============================================================================\n",
      "\n",
      "Warnings:\n",
      "[1] Standard Errors assume that the covariance matrix of the errors is correctly specified.\n",
      "salary ~ yrs_since_phd R2 =  0.17575472091091593\n",
      "correlation coefficient =  0.4192311068025797\n"
     ]
    }
   ],
   "source": [
    "#yrs_since_phd\n",
    "formula_string2 = \"salary ~ yrs_since_phd\"\n",
    "\n",
    "model = sm.formula.ols(formula = formula_string2, data = data)\n",
    "model_fitted = model.fit()\n",
    "\n",
    "print(model_fitted.summary())\n",
    "\n",
    "#yrs_since_phd\n",
    "formula_string2 = \"salary ~ yrs_since_phd\"\n",
    "\n",
    "model = sm.formula.ols(formula = formula_string2, data = data)\n",
    "yrs_since_phd_model_fitted = model.fit()\n",
    "\n",
    "yrs_since_phd_r2 = yrs_since_phd_model_fitted.rsquared\n",
    "\n",
    "print('salary ~ yrs_since_phd R2 = ', yrs_since_phd_r2)\n",
    "print('correlation coefficient = ', data['salary'].corr(data['yrs_since_phd']))"
   ]
  },
  {
   "cell_type": "markdown",
   "metadata": {},
   "source": [
    " - Compare to these two output, we can find that 'years since PhD' is more associated with salaries. \n",
    " - Because the correlation coefficient and R-squared score are both higher than 'years of service'.\n",
    "\n",
    "#### Now we can expand the question. Among all the variables, which one are most strongly associated with salary?"
   ]
  },
  {
   "cell_type": "code",
   "execution_count": 11,
   "metadata": {},
   "outputs": [
    {
     "name": "stdout",
     "output_type": "stream",
     "text": [
      "                            OLS Regression Results                            \n",
      "==============================================================================\n",
      "Dep. Variable:                 salary   R-squared:                       0.455\n",
      "Model:                            OLS   Adj. R-squared:                  0.446\n",
      "Method:                 Least Squares   F-statistic:                     54.20\n",
      "Date:                Sun, 29 Mar 2020   Prob (F-statistic):           1.79e-48\n",
      "Time:                        22:54:51   Log-Likelihood:                -4538.9\n",
      "No. Observations:                 397   AIC:                             9092.\n",
      "Df Residuals:                     390   BIC:                             9120.\n",
      "Df Model:                           6                                         \n",
      "Covariance Type:            nonrobust                                         \n",
      "====================================================================================\n",
      "                       coef    std err          t      P>|t|      [0.025      0.975]\n",
      "------------------------------------------------------------------------------------\n",
      "Intercept         7.886e+04   4990.326     15.803      0.000    6.91e+04    8.87e+04\n",
      "rank[T.AsstProf] -1.291e+04   4145.278     -3.114      0.002   -2.11e+04   -4757.700\n",
      "rank[T.Prof]      3.216e+04   3540.647      9.083      0.000    2.52e+04    3.91e+04\n",
      "discipline[T.B]   1.442e+04   2342.875      6.154      0.000    9811.380     1.9e+04\n",
      "sex[T.Male]       4783.4928   3858.668      1.240      0.216   -2802.901    1.24e+04\n",
      "yrs_since_phd      535.0583    240.994      2.220      0.027      61.248    1008.869\n",
      "yrs_service       -489.5157    211.938     -2.310      0.021    -906.199     -72.833\n",
      "==============================================================================\n",
      "Omnibus:                       46.385   Durbin-Watson:                   1.919\n",
      "Prob(Omnibus):                  0.000   Jarque-Bera (JB):               82.047\n",
      "Skew:                           0.699   Prob(JB):                     1.53e-18\n",
      "Kurtosis:                       4.733   Cond. No.                         183.\n",
      "==============================================================================\n",
      "\n",
      "Warnings:\n",
      "[1] Standard Errors assume that the covariance matrix of the errors is correctly specified.\n"
     ]
    }
   ],
   "source": [
    "#All variables\n",
    "m_sub = sm.formula.ols(formula = 'salary ~ rank + discipline + yrs_since_phd + yrs_service + sex', data = data)\n",
    "multi_reg = m_sub.fit()\n",
    "print(multi_reg.summary())"
   ]
  },
  {
   "cell_type": "markdown",
   "metadata": {},
   "source": [
    "- From the output we can see, the P-value of 'sex' is the highest. But is higher than 0.05 so we cannot say the coefficient is significant.\n",
    "- Among all the variables, the most strongly associated is 'years since PhD', then 'years of service'. From this result it also prove our previous conclusion that 'years since PhD' has a higher correlation with salary than 'years of service'."
   ]
  },
  {
   "cell_type": "markdown",
   "metadata": {},
   "source": [
    "### ※ Conclusions\n",
    "- The distribution of salary is a little right-skewed. The mean is 113706.458438. The median is 107300.000000. The SD is 30289.038695.\n",
    "- There is different in salaries between gender. And male's salaries are significant higher than female's salaries.\n",
    "- Among 'years since PhD' and 'years of service', 'years since PhD' is more associated with salaries. Among all the variables, the most strongly associated is still 'years since PhD', and then 'years of service'."
   ]
  },
  {
   "cell_type": "code",
   "execution_count": null,
   "metadata": {},
   "outputs": [],
   "source": []
  }
 ],
 "metadata": {
  "kernelspec": {
   "display_name": "Python 3",
   "language": "python",
   "name": "python3"
  },
  "language_info": {
   "codemirror_mode": {
    "name": "ipython",
    "version": 3
   },
   "file_extension": ".py",
   "mimetype": "text/x-python",
   "name": "python",
   "nbconvert_exporter": "python",
   "pygments_lexer": "ipython3",
   "version": "3.7.3"
  }
 },
 "nbformat": 4,
 "nbformat_minor": 2
}
